{
 "cells": [
  {
   "cell_type": "markdown",
   "id": "0771365b",
   "metadata": {},
   "source": [
    "# 含數值回傳"
   ]
  },
  {
   "cell_type": "code",
   "execution_count": 32,
   "id": "e48633e7",
   "metadata": {
    "ExecuteTime": {
     "end_time": "2022-05-14T08:30:38.419631Z",
     "start_time": "2022-05-14T08:30:38.404006Z"
    }
   },
   "outputs": [
    {
     "name": "stdout",
     "output_type": "stream",
     "text": [
      "20 0 100 1.0\n",
      "<class 'tuple'> 20 0 100 1.0\n"
     ]
    }
   ],
   "source": [
    "# tuple\n",
    "def subtract(x1, x2):\n",
    "    adressult = x1 + x2\n",
    "    subresult = x1 - x2\n",
    "    mulresult = x1 * x2\n",
    "    divresult = x1 / x2\n",
    "    return adressult, subresult, mulresult, divresult\n",
    "\n",
    "\n",
    "x1 = x2 = 10\n",
    "add, sub, mul, div = subtract(x1, x2)\n",
    "print(add, sub, mul, div)\n",
    "\n",
    "ans = subtract(x1, x2)\n",
    "print(type(ans), ans[0], ans[1], ans[2], ans[3])"
   ]
  },
  {
   "cell_type": "code",
   "execution_count": 33,
   "id": "89662e62",
   "metadata": {
    "ExecuteTime": {
     "end_time": "2022-05-14T08:30:56.790637Z",
     "start_time": "2022-05-14T08:30:56.780642Z"
    }
   },
   "outputs": [
    {
     "name": "stdout",
     "output_type": "stream",
     "text": [
      "洪   宇先生歡迎您\n",
      "洪冰雨小姐歡迎您\n"
     ]
    }
   ],
   "source": [
    "# string\n",
    "def guest_info(firstName, lastName, Gender, middleName=' '):\n",
    "    if Gender == \"M\":\n",
    "        welcome = lastName + ' ' + middleName + ' ' + firstName + '先生歡迎您'\n",
    "    else:\n",
    "        welcome = lastName + middleName + firstName + '小姐歡迎您'\n",
    "    return welcome\n",
    "\n",
    "\n",
    "info1 = guest_info('宇', '洪', 'M')\n",
    "info2 = guest_info('雨', '洪', 'F', '冰')\n",
    "print(info1)\n",
    "print(info2)"
   ]
  },
  {
   "cell_type": "code",
   "execution_count": 34,
   "id": "7eb5d215",
   "metadata": {
    "ExecuteTime": {
     "end_time": "2022-05-14T08:31:19.374185Z",
     "start_time": "2022-05-14T08:31:15.161333Z"
    }
   },
   "outputs": [
    {
     "name": "stdout",
     "output_type": "stream",
     "text": [
      "建立VIP資訊系統\n"
     ]
    },
    {
     "ename": "KeyboardInterrupt",
     "evalue": "Interrupted by user",
     "output_type": "error",
     "traceback": [
      "\u001b[1;31m---------------------------------------------------------------------------\u001b[0m",
      "\u001b[1;31mKeyboardInterrupt\u001b[0m                         Traceback (most recent call last)",
      "\u001b[1;32m~\\AppData\\Local\\Temp/ipykernel_7044/3092464322.py\u001b[0m in \u001b[0;36m<module>\u001b[1;34m\u001b[0m\n\u001b[0;32m      8\u001b[0m \u001b[1;32mwhile\u001b[0m \u001b[1;32mTrue\u001b[0m\u001b[1;33m:\u001b[0m\u001b[1;33m\u001b[0m\u001b[1;33m\u001b[0m\u001b[0m\n\u001b[0;32m      9\u001b[0m     \u001b[0mprint\u001b[0m\u001b[1;33m(\u001b[0m\u001b[1;34m\"建立VIP資訊系統\"\u001b[0m\u001b[1;33m)\u001b[0m\u001b[1;33m\u001b[0m\u001b[1;33m\u001b[0m\u001b[0m\n\u001b[1;32m---> 10\u001b[1;33m     \u001b[0midnum\u001b[0m \u001b[1;33m=\u001b[0m \u001b[0minput\u001b[0m\u001b[1;33m(\u001b[0m\u001b[1;34m\"請輸入ID: \"\u001b[0m\u001b[1;33m)\u001b[0m\u001b[1;33m\u001b[0m\u001b[1;33m\u001b[0m\u001b[0m\n\u001b[0m\u001b[0;32m     11\u001b[0m     \u001b[0mname\u001b[0m \u001b[1;33m=\u001b[0m \u001b[0minput\u001b[0m\u001b[1;33m(\u001b[0m\u001b[1;34m\"請輸入姓名: \"\u001b[0m\u001b[1;33m)\u001b[0m\u001b[1;33m\u001b[0m\u001b[1;33m\u001b[0m\u001b[0m\n\u001b[0;32m     12\u001b[0m     \u001b[0mtel\u001b[0m \u001b[1;33m=\u001b[0m \u001b[0minput\u001b[0m\u001b[1;33m(\u001b[0m\u001b[1;34m\"請輸入電話號碼: \"\u001b[0m\u001b[1;33m)\u001b[0m\u001b[1;33m\u001b[0m\u001b[1;33m\u001b[0m\u001b[0m\n",
      "\u001b[1;32mD:\\Anaconda\\lib\\site-packages\\ipykernel\\kernelbase.py\u001b[0m in \u001b[0;36mraw_input\u001b[1;34m(self, prompt)\u001b[0m\n\u001b[0;32m   1004\u001b[0m                 \u001b[1;34m\"raw_input was called, but this frontend does not support input requests.\"\u001b[0m\u001b[1;33m\u001b[0m\u001b[1;33m\u001b[0m\u001b[0m\n\u001b[0;32m   1005\u001b[0m             )\n\u001b[1;32m-> 1006\u001b[1;33m         return self._input_request(\n\u001b[0m\u001b[0;32m   1007\u001b[0m             \u001b[0mstr\u001b[0m\u001b[1;33m(\u001b[0m\u001b[0mprompt\u001b[0m\u001b[1;33m)\u001b[0m\u001b[1;33m,\u001b[0m\u001b[1;33m\u001b[0m\u001b[1;33m\u001b[0m\u001b[0m\n\u001b[0;32m   1008\u001b[0m             \u001b[0mself\u001b[0m\u001b[1;33m.\u001b[0m\u001b[0m_parent_ident\u001b[0m\u001b[1;33m[\u001b[0m\u001b[1;34m\"shell\"\u001b[0m\u001b[1;33m]\u001b[0m\u001b[1;33m,\u001b[0m\u001b[1;33m\u001b[0m\u001b[1;33m\u001b[0m\u001b[0m\n",
      "\u001b[1;32mD:\\Anaconda\\lib\\site-packages\\ipykernel\\kernelbase.py\u001b[0m in \u001b[0;36m_input_request\u001b[1;34m(self, prompt, ident, parent, password)\u001b[0m\n\u001b[0;32m   1049\u001b[0m             \u001b[1;32mexcept\u001b[0m \u001b[0mKeyboardInterrupt\u001b[0m\u001b[1;33m:\u001b[0m\u001b[1;33m\u001b[0m\u001b[1;33m\u001b[0m\u001b[0m\n\u001b[0;32m   1050\u001b[0m                 \u001b[1;31m# re-raise KeyboardInterrupt, to truncate traceback\u001b[0m\u001b[1;33m\u001b[0m\u001b[1;33m\u001b[0m\u001b[0m\n\u001b[1;32m-> 1051\u001b[1;33m                 \u001b[1;32mraise\u001b[0m \u001b[0mKeyboardInterrupt\u001b[0m\u001b[1;33m(\u001b[0m\u001b[1;34m\"Interrupted by user\"\u001b[0m\u001b[1;33m)\u001b[0m \u001b[1;32mfrom\u001b[0m \u001b[1;32mNone\u001b[0m\u001b[1;33m\u001b[0m\u001b[1;33m\u001b[0m\u001b[0m\n\u001b[0m\u001b[0;32m   1052\u001b[0m             \u001b[1;32mexcept\u001b[0m \u001b[0mException\u001b[0m\u001b[1;33m:\u001b[0m\u001b[1;33m\u001b[0m\u001b[1;33m\u001b[0m\u001b[0m\n\u001b[0;32m   1053\u001b[0m                 \u001b[0mself\u001b[0m\u001b[1;33m.\u001b[0m\u001b[0mlog\u001b[0m\u001b[1;33m.\u001b[0m\u001b[0mwarning\u001b[0m\u001b[1;33m(\u001b[0m\u001b[1;34m\"Invalid Message:\"\u001b[0m\u001b[1;33m,\u001b[0m \u001b[0mexc_info\u001b[0m\u001b[1;33m=\u001b[0m\u001b[1;32mTrue\u001b[0m\u001b[1;33m)\u001b[0m\u001b[1;33m\u001b[0m\u001b[1;33m\u001b[0m\u001b[0m\n",
      "\u001b[1;31mKeyboardInterrupt\u001b[0m: Interrupted by user"
     ]
    }
   ],
   "source": [
    "# Dict\n",
    "def build_vip(id, name, tel =''):\n",
    "    '''建立VIP資訊'''\n",
    "    vip_dict = {'VIP_ID':id ,'Name':name}\n",
    "    if tel:\n",
    "        vip_dict['Tel'] = tel\n",
    "    return vip_dict\n",
    "while True:\n",
    "    print(\"建立VIP資訊系統\")\n",
    "    idnum = input(\"請輸入ID: \")\n",
    "    name = input(\"請輸入姓名: \")    \n",
    "    tel = input(\"請輸入電話號碼: \") \n",
    "    member = build_vip(idnum,name ,tel)\n",
    "    print(member, '\\n')\n",
    "    repeat = input(\"是否繼續(y/n)? 輸入非y字元可結束系統: \")\n",
    "    if repeat != 'y':\n",
    "        break"
   ]
  },
  {
   "cell_type": "markdown",
   "id": "e6821057",
   "metadata": {},
   "source": [
    "# 呼叫函數時參數是串列"
   ]
  },
  {
   "cell_type": "code",
   "execution_count": 1,
   "id": "96a019be",
   "metadata": {
    "ExecuteTime": {
     "end_time": "2022-05-14T12:22:09.876532Z",
     "start_time": "2022-05-14T12:22:09.849549Z"
    }
   },
   "outputs": [
    {
     "name": "stdout",
     "output_type": "stream",
     "text": [
      "親愛的: Damon\n",
      "本公司將在2020年12月20日北京舉行產品發表會\n",
      "總經理:深石敬上 \n",
      "\n",
      "親愛的: Peter\n",
      "本公司將在2020年12月20日北京舉行產品發表會\n",
      "總經理:深石敬上 \n",
      "\n",
      "親愛的: Mary\n",
      "本公司將在2020年12月20日北京舉行產品發表會\n",
      "總經理:深石敬上 \n",
      "\n"
     ]
    }
   ],
   "source": [
    "def product_msg(customers):\n",
    "    str1 = '親愛的: '\n",
    "    str2 = '本公司將在2020年12月20日北京舉行產品發表會'\n",
    "    str3 = '總經理:深石敬上'\n",
    "    for customer in customers:\n",
    "        msg = str1 + customer + '\\n' + str2 + '\\n' + str3\n",
    "        print(msg, '\\n')\n",
    "\n",
    "members = ['Damon', 'Peter', 'Mary']\n",
    "product_msg(members)"
   ]
  },
  {
   "cell_type": "code",
   "execution_count": 17,
   "id": "8f9fd112",
   "metadata": {
    "ExecuteTime": {
     "end_time": "2022-05-14T13:35:24.965326Z",
     "start_time": "2022-05-14T13:35:24.945335Z"
    }
   },
   "outputs": [
    {
     "name": "stdout",
     "output_type": "stream",
     "text": [
      "主程式 id(x) = :  2068744005936 \t 1\n",
      "副程式 id(n) = :  2068744005936 \t 1\n",
      "副程式 id(n) = :  2068744006064 \t 5\n",
      "主程式 id(x) = :  2068744005936 \t 1\n"
     ]
    }
   ],
   "source": [
    "#一般變數到函數\n",
    "def mydata(n):\n",
    "    print(\"副程式 id(n) = : \", id(n), \"\\t\", n)\n",
    "    n = 5\n",
    "    print(\"副程式 id(n) = : \", id(n), \"\\t\", n)\n",
    "\n",
    "x = 1\n",
    "print(\"主程式 id(x) = : \", id(x), \"\\t\", x)\n",
    "mydata(x)\n",
    "print(\"主程式 id(x) = : \", id(x), \"\\t\", x)"
   ]
  },
  {
   "cell_type": "code",
   "execution_count": 3,
   "id": "d43ecd7b",
   "metadata": {
    "ExecuteTime": {
     "end_time": "2022-05-14T12:35:04.146820Z",
     "start_time": "2022-05-14T12:35:04.122835Z"
    }
   },
   "outputs": [
    {
     "name": "stdout",
     "output_type": "stream",
     "text": [
      "主程式 id(x) = :  2068867598528 \t [1, 2]\n",
      "函  數 id(n) = :  2068867598528 \t [1, 2]\n",
      "函  數 id(n) = :  2068867598528 \t [5, 2]\n",
      "主程式 id(x) = :  2068867598528 \t [5, 2]\n"
     ]
    }
   ],
   "source": [
    "#串列變數到函數\n",
    "def mydata(n):\n",
    "    print(f\"函  數 id(n) = :  {id(n)} \\t {n}\")\n",
    "    n[0] = 5\n",
    "    print(f\"函  數 id(n) = :  {id(n)} \\t {n}\")\n",
    "\n",
    "x = [1, 2]\n",
    "print(\"主程式 id(x) = : \", id(x), \"\\t\", x)\n",
    "mydata(x)\n",
    "print(\"主程式 id(x) = : \", id(x), \"\\t\", x)"
   ]
  },
  {
   "cell_type": "code",
   "execution_count": 1,
   "id": "a1973362",
   "metadata": {
    "ExecuteTime": {
     "end_time": "2022-05-16T07:44:34.220772Z",
     "start_time": "2022-05-16T07:44:34.187207Z"
    }
   },
   "outputs": [
    {
     "name": "stdout",
     "output_type": "stream",
     "text": [
      "=== 下列是所點的餐點 ===\n",
      "大麥克\n",
      "勁辣雞腿堡\n",
      "麥克雞塊\n",
      "=== 下列是已經服務的餐點 ===\n",
      "*** 沒有餐點 *** \n",
      "\n",
      "廚房處理顧客所點的餐點\n",
      "菜單:  麥克雞塊\n",
      "菜單:  勁辣雞腿堡\n",
      "菜單:  大麥克\n",
      "\n",
      " === 廚房處理結束 === \n",
      "\n",
      "=== 下列是所點的餐點 ===\n",
      "大麥克\n",
      "勁辣雞腿堡\n",
      "麥克雞塊\n",
      "=== 下列是已經服務的餐點 ===\n",
      "麥克雞塊\n",
      "勁辣雞腿堡\n",
      "大麥克\n"
     ]
    }
   ],
   "source": [
    "# 在函數內修訂串列內容\n",
    "def kitchen(unserved, served):\n",
    "    \"\"\" 將所點的餐點轉為已經服務 \"\"\"\n",
    "    print(\"廚房處理顧客所點的餐點\")\n",
    "    while unserved:\n",
    "        current_meal = unserved.pop( )\n",
    "        # 模擬出餐點過程\n",
    "        print(\"菜單: \", current_meal)\n",
    "        # 將已出餐點轉入已經服務串列\n",
    "        served.append(current_meal)\n",
    "\n",
    "def show_order_meal(unserved):\n",
    "    \"\"\" 顯示所點的餐點 \"\"\"\n",
    "    print(\"=== 下列是所點的餐點 ===\")\n",
    "    if not unserved:\n",
    "        print(\"*** 沒有餐點 ***\", \"\\n\")\n",
    "    for unserved_meal in unserved:\n",
    "        print(unserved_meal)\n",
    "        \n",
    "def show_served_meal(served):\n",
    "    \"\"\" 顯示已經服務的餐點 \"\"\"\n",
    "    print(\"=== 下列是已經服務的餐點 ===\")\n",
    "    if not served:\n",
    "        print(\"*** 沒有餐點 ***\", \"\\n\")\n",
    "    for served_meal in served:\n",
    "        print(served_meal)\n",
    "\n",
    "order_list = ['大麥克', '勁辣雞腿堡', '麥克雞塊']   # 所點餐點\n",
    "served_list = []                                    # 已服務餐點\n",
    "\n",
    "# 列出餐廳處理前的點餐內容\n",
    "show_order_meal(order_list)                         # 列出所點的餐點\n",
    "show_served_meal(served_list)                       # 列出已服務餐點\n",
    "\n",
    "# 餐廳服務過程\n",
    "kitchen(order_list[:], served_list)                 # 餐廳處理過程\n",
    "print(\"\\n\", \"=== 廚房處理結束 ===\", \"\\n\")\n",
    "\n",
    "# 列出餐廳處理後的點餐內容\n",
    "show_order_meal(order_list)                         # 列出所點的餐點\n",
    "show_served_meal(served_list)                       # 列出已服務餐點\n",
    "\n"
   ]
  },
  {
   "cell_type": "code",
   "execution_count": 3,
   "id": "518bf24a",
   "metadata": {
    "ExecuteTime": {
     "end_time": "2022-05-16T07:44:57.575597Z",
     "start_time": "2022-05-16T07:44:57.554611Z"
    }
   },
   "outputs": [
    {
     "name": "stdout",
     "output_type": "stream",
     "text": [
      "Help on function kitchen in module __main__:\n",
      "\n",
      "kitchen(unserved, served)\n",
      "    將所點的餐點轉為已經服務\n",
      "\n",
      " 將所點的餐點轉為已經服務 \n"
     ]
    }
   ],
   "source": [
    "help(kitchen)\n",
    "print(kitchen.__doc__)"
   ]
  },
  {
   "cell_type": "code",
   "execution_count": 13,
   "id": "0301eca5",
   "metadata": {
    "ExecuteTime": {
     "end_time": "2022-05-14T13:29:40.357662Z",
     "start_time": "2022-05-14T13:29:40.328953Z"
    }
   },
   "outputs": [
    {
     "name": "stdout",
     "output_type": "stream",
     "text": [
      "['x']\n",
      "['x']\n",
      "[1, 2, 'x']\n",
      "['y']\n",
      "['x', 'y']\n",
      "[1, 2, 'x', 'y']\n"
     ]
    }
   ],
   "source": [
    "#傳遞串列的提醒def\n",
    "def insertChart(letter,mylist=[],inlist=[1,2],outlist = None):\n",
    "    if outlist == None:\n",
    "        outlist = []\n",
    "        outlist.append(letter)\n",
    "        print(outlist)\n",
    "    mylist.append(letter)\n",
    "    inlist.append(letter)\n",
    "    print(mylist)\n",
    "    print(inlist)\n",
    "insertChart('x')\n",
    "insertChart('y')"
   ]
  },
  {
   "cell_type": "markdown",
   "id": "6898691f",
   "metadata": {},
   "source": [
    "# 傳遞任意數量的參數"
   ]
  },
  {
   "cell_type": "code",
   "execution_count": 4,
   "id": "88969d95",
   "metadata": {
    "ExecuteTime": {
     "end_time": "2022-05-15T07:52:59.290504Z",
     "start_time": "2022-05-15T07:52:59.270520Z"
    }
   },
   "outputs": [
    {
     "name": "stdout",
     "output_type": "stream",
     "text": [
      "香草\n",
      "--- 草莓\n",
      "芒果\n",
      "--- 草莓\n",
      "--- 葡萄\n",
      "--- 巧克力\n"
     ]
    }
   ],
   "source": [
    "def make_icecream(icecream_type, *toppins):\n",
    "    print(icecream_type)\n",
    "    for i in toppins:\n",
    "        print('---', i)\n",
    "\n",
    "\n",
    "make_icecream('香草', '草莓')\n",
    "make_icecream('芒果', '草莓', '葡萄', '巧克力')"
   ]
  },
  {
   "cell_type": "code",
   "execution_count": null,
   "id": "b0bf611c",
   "metadata": {
    "ExecuteTime": {
     "end_time": "2022-05-15T07:39:02.313850Z",
     "start_time": "2022-05-15T07:39:02.293860Z"
    }
   },
   "outputs": [],
   "source": [
    "# 傳遞任意數量的關鍵字參數\n",
    "def build_dict(name, age, **players):\n",
    "    info = {}\n",
    "    info['Name'] = name\n",
    "    info['Age'] = age\n",
    "    for key, value in players.items():\n",
    "        info[key] = value\n",
    "    return info\n",
    "\n",
    "\n",
    "player_dict = build_dict('james', '32',\n",
    "                         City='Cleveland',\n",
    "                         state='Ohio')\n",
    "print(player_dict)"
   ]
  },
  {
   "cell_type": "markdown",
   "id": "a95c43bb",
   "metadata": {},
   "source": [
    "# 把函數當成物件(return函數不加括號)"
   ]
  },
  {
   "cell_type": "code",
   "execution_count": 5,
   "id": "af39bfe5",
   "metadata": {
    "ExecuteTime": {
     "end_time": "2022-05-16T07:52:11.419615Z",
     "start_time": "2022-05-16T07:52:11.397628Z"
    }
   },
   "outputs": [
    {
     "name": "stdout",
     "output_type": "stream",
     "text": [
      "<built-in function min> 1\n",
      "<built-in function max> 10\n",
      "<built-in function sum> 16\n",
      "<function total at 0x0000027085F1E550> 16\n"
     ]
    }
   ],
   "source": [
    "# 函數為資料結構\n",
    "def total(data):\n",
    "    return sum(data)\n",
    "\n",
    "x = (1, 5, 10)\n",
    "myList = [min, max, sum, total]\n",
    "for f in myList:\n",
    "    print(f, f(x))"
   ]
  },
  {
   "cell_type": "code",
   "execution_count": 8,
   "id": "e8825d7f",
   "metadata": {
    "ExecuteTime": {
     "end_time": "2022-05-16T07:56:51.069233Z",
     "start_time": "2022-05-16T07:56:51.057238Z"
    }
   },
   "outputs": [
    {
     "name": "stdout",
     "output_type": "stream",
     "text": [
      "15\n",
      "50\n"
     ]
    }
   ],
   "source": [
    "# 高階函數\n",
    "def add(x, y):\n",
    "    return x + y\n",
    "\n",
    "def mul(x, y):\n",
    "    return x*y\n",
    "\n",
    "def running(func, arg1, arg2):\n",
    "    return func(arg1, arg2)\n",
    "\n",
    "result1 = running(add, 5, 10)\n",
    "print(result1)\n",
    "result2 = running(mul, 5, 10)\n",
    "print(result2)"
   ]
  },
  {
   "cell_type": "code",
   "execution_count": 9,
   "id": "696de10a",
   "metadata": {
    "ExecuteTime": {
     "end_time": "2022-05-16T08:06:37.259677Z",
     "start_time": "2022-05-16T08:06:37.228819Z"
    }
   },
   "outputs": [
    {
     "name": "stdout",
     "output_type": "stream",
     "text": [
      "15\n",
      "30\n"
     ]
    }
   ],
   "source": [
    "#不定量參數\n",
    "def mysum(*args):\n",
    "    return sum(args)\n",
    "\n",
    "def run_with_multiple_args(func, *args):\n",
    "    return func(*args)\n",
    "\n",
    "print(run_with_multiple_args(mysum,1,2,3,4,5))\n",
    "print(run_with_multiple_args(mysum,6,7,8,9))\n"
   ]
  },
  {
   "cell_type": "code",
   "execution_count": 13,
   "id": "d9e8354f",
   "metadata": {
    "ExecuteTime": {
     "end_time": "2022-05-16T08:13:26.437805Z",
     "start_time": "2022-05-16T08:13:26.427810Z"
    }
   },
   "outputs": [
    {
     "name": "stdout",
     "output_type": "stream",
     "text": [
      "1.0352649238413776\n"
     ]
    }
   ],
   "source": [
    "# 嵌套函數\n",
    "def dist(x1, y1, x2, y2):\n",
    "    def mySqrt(z):\n",
    "        return z ** 0.05\n",
    "    dx = (x1 - x2) ** 2\n",
    "    dy = (y1 - y2) ** 2\n",
    "    return mySqrt(dx+dy)\n",
    "\n",
    "print(dist(0, 0,1,1))"
   ]
  },
  {
   "cell_type": "markdown",
   "id": "203a43ca",
   "metadata": {},
   "source": [
    "# 區域變數與全域變數"
   ]
  },
  {
   "cell_type": "code",
   "execution_count": 1,
   "id": "129837a4",
   "metadata": {
    "ExecuteTime": {
     "end_time": "2022-05-17T01:54:39.711383Z",
     "start_time": "2022-05-17T01:54:39.694396Z"
    }
   },
   "outputs": [
    {
     "name": "stdout",
     "output_type": "stream",
     "text": [
      "1\n",
      "2\n",
      "111\n",
      "222\n",
      "111\n",
      "2\n"
     ]
    }
   ],
   "source": [
    "def local_fun():\n",
    "    var_nonlocal = 22\n",
    "    def local_inner():\n",
    "        global var_global\n",
    "        nonlocal var_nonlocal\n",
    "        var_global = 111\n",
    "        var_nonlocal = 222\n",
    "    local_inner()\n",
    "    print(var_global)\n",
    "    print(var_nonlocal)\n",
    "    \n",
    "var_global = 1\n",
    "var_nonlocal = 2\n",
    "print(var_global)\n",
    "print(var_nonlocal)\n",
    "local_fun()\n",
    "print(var_global)\n",
    "print(var_nonlocal)"
   ]
  },
  {
   "cell_type": "markdown",
   "id": "97eb9304",
   "metadata": {},
   "source": [
    "# 匿名函數lambda"
   ]
  },
  {
   "cell_type": "code",
   "execution_count": 2,
   "id": "c541128d",
   "metadata": {
    "ExecuteTime": {
     "end_time": "2022-05-17T07:28:53.039554Z",
     "start_time": "2022-05-17T07:28:53.021563Z"
    }
   },
   "outputs": [
    {
     "name": "stdout",
     "output_type": "stream",
     "text": [
      "My dream cars isPorche\n",
      "My dream cars isRolls Royce\n",
      "My dream cars isMaserati\n"
     ]
    }
   ],
   "source": [
    "#用於高階函數的參數\n",
    "def mycar(cars,func):\n",
    "    for car in cars:\n",
    "        print(func(car))\n",
    "        \n",
    "dreamcars = ['porche','rolls royce','maserati']\n",
    "mycar(dreamcars, lambda carband:\"My dream cars is\" + carband.title())\n"
   ]
  },
  {
   "cell_type": "code",
   "execution_count": 17,
   "id": "0beb1d9d",
   "metadata": {
    "ExecuteTime": {
     "end_time": "2022-05-17T12:09:37.933552Z",
     "start_time": "2022-05-17T12:09:37.925551Z"
    }
   },
   "outputs": [
    {
     "name": "stdout",
     "output_type": "stream",
     "text": [
      "[5, 15, 25]\n",
      "[25, 100, 225, 400, 625, 900]\n"
     ]
    }
   ],
   "source": [
    "# filter(篩選序列)\n",
    "mylist = [5,10, 15, 20, 25, 30]\n",
    "oddlist = list(filter(lambda x:(x % 2 ==1),mylist))\n",
    "squarelist = list(map(lambda x: x**2,mylist))\n",
    "print(oddlist)\n",
    "print(squarelist)"
   ]
  },
  {
   "cell_type": "code",
   "execution_count": 15,
   "id": "c2817923",
   "metadata": {
    "ExecuteTime": {
     "end_time": "2022-05-17T12:02:04.491090Z",
     "start_time": "2022-05-17T12:02:04.462237Z"
    }
   },
   "outputs": [
    {
     "name": "stdout",
     "output_type": "stream",
     "text": [
      "x =  5497\n"
     ]
    }
   ],
   "source": [
    "#字串轉整數\n",
    "from functools import reduce\n",
    "def strToInt(s):\n",
    "    def charToNum(s):\n",
    "        return {'0':0,'1':1,'2':2,'3':3,'4':4,'5':5,'6':6,'7':7,'8':8,'9':9}[s]\n",
    "    return reduce(lambda x,y:10*x+y, map(charToNum,s)) #迭代\n",
    "\n",
    "string = '5487'\n",
    "x = strToInt(string) + 10\n",
    "print(\"x = \", x)"
   ]
  },
  {
   "cell_type": "markdown",
   "id": "3853b9cb",
   "metadata": {},
   "source": [
    "# 裝飾器"
   ]
  },
  {
   "cell_type": "code",
   "execution_count": 37,
   "id": "3fa03a4d",
   "metadata": {
    "ExecuteTime": {
     "end_time": "2022-05-17T15:16:49.314667Z",
     "start_time": "2022-05-17T15:16:49.303677Z"
    }
   },
   "outputs": [
    {
     "name": "stdout",
     "output_type": "stream",
     "text": [
      "函數名稱 mydiv\n",
      "函數參與 (5, 0)\n",
      "執行結果 除數不可為0\n",
      "None\n"
     ]
    }
   ],
   "source": [
    "def errcheck(func):\n",
    "    def newFunc(*args):\n",
    "        if args[1] != 0:\n",
    "            result = func(*args)\n",
    "        else:\n",
    "            result = '除數不可為0'\n",
    "        print('函數名稱', func.__name__)\n",
    "        print('函數參與', args)\n",
    "        print('執行結果', result)\n",
    "    return newFunc\n",
    "@errcheck\n",
    "def mydiv(x,y):\n",
    "    return x/y\n",
    "print(mydiv(5,0))"
   ]
  },
  {
   "cell_type": "markdown",
   "id": "dcf99daf",
   "metadata": {
    "ExecuteTime": {
     "end_time": "2022-05-17T14:56:03.221923Z",
     "start_time": "2022-05-17T14:56:03.199941Z"
    }
   },
   "source": [
    "# 專題"
   ]
  },
  {
   "cell_type": "code",
   "execution_count": 5,
   "id": "907e2bc0",
   "metadata": {
    "ExecuteTime": {
     "end_time": "2022-05-18T14:08:08.951408Z",
     "start_time": "2022-05-18T14:08:02.075153Z"
    }
   },
   "outputs": [
    {
     "name": "stdout",
     "output_type": "stream",
     "text": [
      "請輸入2個整數值 : 15,20\n",
      "最大公約數是 :  5\n"
     ]
    }
   ],
   "source": [
    "#最大公因數\n",
    "def gcd(n1, n2):\n",
    "    g = 1                               # 最初化最大公約數\n",
    "    n = 2                               # 從2開始檢測\n",
    "    while n <= n1 and n <= n2:\n",
    "        if n1 % n == 0 and n2 % n == 0:\n",
    "            g = n                       # 新最大公約數\n",
    "        n += 1\n",
    "    return g\n",
    "\n",
    "n1, n2 = eval(input(\"請輸入2個整數值 : \"))\n",
    "print(\"最大公約數是 : \", gcd(n1,n2))\n"
   ]
  },
  {
   "cell_type": "code",
   "execution_count": 8,
   "id": "17e110fd",
   "metadata": {
    "ExecuteTime": {
     "end_time": "2022-05-18T14:20:28.645917Z",
     "start_time": "2022-05-18T14:20:23.543451Z"
    }
   },
   "outputs": [
    {
     "name": "stdout",
     "output_type": "stream",
     "text": [
      "10,20\n",
      "10\n",
      "20\n"
     ]
    }
   ],
   "source": [
    "def gcd(a, b): #歐機里德算法\n",
    "    return a if b == 0 else gcd(b, a%b)\n",
    "\n",
    "def lcm(a, b): #最小公倍數\n",
    "    return a*b // gcd(a,b)\n",
    "a,b = eval(input())\n",
    "print(gcd(a,b)) \n",
    "print(lcm(a,b))"
   ]
  },
  {
   "cell_type": "code",
   "execution_count": null,
   "id": "338817e1",
   "metadata": {},
   "outputs": [],
   "source": []
  }
 ],
 "metadata": {
  "kernelspec": {
   "display_name": "Python 3 (ipykernel)",
   "language": "python",
   "name": "python3"
  },
  "language_info": {
   "codemirror_mode": {
    "name": "ipython",
    "version": 3
   },
   "file_extension": ".py",
   "mimetype": "text/x-python",
   "name": "python",
   "nbconvert_exporter": "python",
   "pygments_lexer": "ipython3",
   "version": "3.9.7"
  },
  "toc": {
   "base_numbering": 1,
   "nav_menu": {},
   "number_sections": true,
   "sideBar": true,
   "skip_h1_title": false,
   "title_cell": "Table of Contents",
   "title_sidebar": "Contents",
   "toc_cell": false,
   "toc_position": {},
   "toc_section_display": true,
   "toc_window_display": false
  },
  "varInspector": {
   "cols": {
    "lenName": 16,
    "lenType": 16,
    "lenVar": 40
   },
   "kernels_config": {
    "python": {
     "delete_cmd_postfix": "",
     "delete_cmd_prefix": "del ",
     "library": "var_list.py",
     "varRefreshCmd": "print(var_dic_list())"
    },
    "r": {
     "delete_cmd_postfix": ") ",
     "delete_cmd_prefix": "rm(",
     "library": "var_list.r",
     "varRefreshCmd": "cat(var_dic_list()) "
    }
   },
   "types_to_exclude": [
    "module",
    "function",
    "builtin_function_or_method",
    "instance",
    "_Feature"
   ],
   "window_display": false
  }
 },
 "nbformat": 4,
 "nbformat_minor": 5
}
