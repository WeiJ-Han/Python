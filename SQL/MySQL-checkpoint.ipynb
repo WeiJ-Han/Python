{
 "cells": [
  {
   "cell_type": "markdown",
   "id": "b011b1b4",
   "metadata": {},
   "source": [
    "# 新增"
   ]
  },
  {
   "cell_type": "code",
   "execution_count": 9,
   "id": "a9646668",
   "metadata": {
    "ExecuteTime": {
     "end_time": "2022-09-09T08:21:34.608227Z",
     "start_time": "2022-09-09T08:21:30.345164Z"
    }
   },
   "outputs": [
    {
     "data": {
      "text/plain": [
       "1"
      ]
     },
     "execution_count": 9,
     "metadata": {},
     "output_type": "execute_result"
    }
   ],
   "source": [
    "import pymysql\n",
    "conn = pymysql.connect(host='localhost',\n",
    "                       port=3306,\n",
    "                       user='root',\n",
    "                       charset='utf8',\n",
    "                       password='han')\n",
    "\n",
    "mycursor = conn.cursor()\n",
    "mycursor.execute('CREATE DATABASE mydb2')"
   ]
  },
  {
   "cell_type": "code",
   "execution_count": 11,
   "id": "16afdfd0",
   "metadata": {
    "ExecuteTime": {
     "end_time": "2022-09-09T08:28:25.202910Z",
     "start_time": "2022-09-09T08:28:22.037809Z"
    }
   },
   "outputs": [
    {
     "data": {
      "text/plain": [
       "0"
      ]
     },
     "execution_count": 11,
     "metadata": {},
     "output_type": "execute_result"
    }
   ],
   "source": [
    "# 建立資料表格\n",
    "import pymysql\n",
    "conn = pymysql.connect(host='localhost',\n",
    "                       port=3306,\n",
    "                       user='root',\n",
    "                       charset='utf8',\n",
    "                       password='han',\n",
    "                       database='mydb1')\n",
    "\n",
    "mycursor = conn.cursor()\n",
    "\n",
    "sql = \"\"\"\n",
    "CREATE TABLE IF NOT EXISTS Customers (\n",
    "    ID int NOT NULL AUTO_INCREMENT PRIMARY KEY,\n",
    "    NAME varchar(20),\n",
    "    City varchar(20)\n",
    ")\"\"\"\n",
    "mycursor.execute(sql)"
   ]
  },
  {
   "cell_type": "code",
   "execution_count": 15,
   "id": "13efe01e",
   "metadata": {
    "ExecuteTime": {
     "end_time": "2022-09-09T08:38:14.110297Z",
     "start_time": "2022-09-09T08:38:11.955443Z"
    }
   },
   "outputs": [
    {
     "name": "stdout",
     "output_type": "stream",
     "text": [
      "插入資料錄 1 筆\n"
     ]
    }
   ],
   "source": [
    "# 插入資料錄\n",
    "import pymysql\n",
    "conn = pymysql.connect(host='localhost',\n",
    "                       port=3306,\n",
    "                       user='root',\n",
    "                       charset='utf8',\n",
    "                       password='han',\n",
    "                       database='mydb1')\n",
    "\n",
    "mycursor = conn.cursor()\n",
    "\n",
    "sql = \"INSERT INTO customers (Name, City) VALUES (%s, %s)\"\n",
    "val = ('Peter', 'Taipei')\n",
    "\n",
    "mycursor.execute(sql, val)\n",
    "conn.commit()\n",
    "print(f'插入資料錄 {mycursor.rowcount} 筆')"
   ]
  },
  {
   "cell_type": "code",
   "execution_count": 20,
   "id": "6ddbfb5d",
   "metadata": {
    "ExecuteTime": {
     "end_time": "2022-09-09T08:57:50.487199Z",
     "start_time": "2022-09-09T08:57:48.338156Z"
    }
   },
   "outputs": [
    {
     "name": "stdout",
     "output_type": "stream",
     "text": [
      "插入資料錄 3 筆\n"
     ]
    }
   ],
   "source": [
    "# 插入多筆改用executemany()\n",
    "import pymysql\n",
    "conn = pymysql.connect(host='localhost',\n",
    "                       port=3306,\n",
    "                       user='root',\n",
    "                       charset='utf8',\n",
    "                       password='han',\n",
    "                       database='mydb1')\n",
    "\n",
    "mycursor = conn.cursor()\n",
    "\n",
    "sql = \"INSERT INTO customers (Name, City) VALUES (%s, %s)\"\n",
    "val = [('Kevin', 'Taipei'),\n",
    "       ('John', 'Tokyo'),\n",
    "       ('Nancy', 'Beijing')\n",
    "       ]\n",
    "\n",
    "mycursor.executemany(sql, val)\n",
    "conn.commit()\n",
    "print(f'插入資料錄 {mycursor.rowcount} 筆')"
   ]
  },
  {
   "cell_type": "markdown",
   "id": "e22493cc",
   "metadata": {},
   "source": [
    "# 查詢"
   ]
  },
  {
   "cell_type": "code",
   "execution_count": 22,
   "id": "9ff98d6e",
   "metadata": {
    "ExecuteTime": {
     "end_time": "2022-09-09T13:49:26.239225Z",
     "start_time": "2022-09-09T13:49:23.947969Z"
    }
   },
   "outputs": [
    {
     "name": "stdout",
     "output_type": "stream",
     "text": [
      "(1, 'Peter', 'Taipei')\n",
      "(2, 'Kevin', 'Taipei')\n",
      "(3, 'John', 'Tokyo')\n",
      "(4, 'Nancy', 'Beijing')\n"
     ]
    }
   ],
   "source": [
    "# 匯出全部資料\n",
    "import pymysql\n",
    "conn = pymysql.connect(host='localhost',\n",
    "                       port=3306,\n",
    "                       user='root',\n",
    "                       charset='utf8',\n",
    "                       password='han',\n",
    "                       database='mydb1')\n",
    "\n",
    "mycursor = conn.cursor()\n",
    "\n",
    "mycursor.execute('SELECT * FROM customers')\n",
    "result = mycursor.fetchall()\n",
    "for r in result:\n",
    "    print(r)"
   ]
  },
  {
   "cell_type": "code",
   "execution_count": 23,
   "id": "e062de8c",
   "metadata": {
    "ExecuteTime": {
     "end_time": "2022-09-09T13:51:07.426650Z",
     "start_time": "2022-09-09T13:51:07.413959Z"
    }
   },
   "outputs": [
    {
     "name": "stdout",
     "output_type": "stream",
     "text": [
      "(1, 'Peter', 'Taipei')\n"
     ]
    }
   ],
   "source": [
    "# 匯出第一筆資料\n",
    "mycursor.execute('SELECT * FROM customers')\n",
    "result = mycursor.fetchone()\n",
    "print(result)"
   ]
  },
  {
   "cell_type": "code",
   "execution_count": 26,
   "id": "bb910ad4",
   "metadata": {
    "ExecuteTime": {
     "end_time": "2022-09-09T14:00:19.768990Z",
     "start_time": "2022-09-09T14:00:17.677279Z"
    }
   },
   "outputs": [
    {
     "name": "stdout",
     "output_type": "stream",
     "text": [
      "(1, 'Peter', 'Taipei')\n",
      "(2, 'Kevin', 'Taipei')\n"
     ]
    }
   ],
   "source": [
    "# 多條件查詢\n",
    "import pymysql\n",
    "conn = pymysql.connect(host='localhost',\n",
    "                       port=3306,\n",
    "                       user='root',\n",
    "                       charset='utf8',\n",
    "                       password='han',\n",
    "                       database='mydb1')\n",
    "\n",
    "mycursor = conn.cursor()\n",
    "\n",
    "mycursor.execute('SELECT * FROM customers WHERE City =  \"Taipei\"')\n",
    "result = mycursor.fetchall()\n",
    "for r in result:\n",
    "    print(r)"
   ]
  },
  {
   "cell_type": "code",
   "execution_count": 10,
   "id": "17fd0d9d",
   "metadata": {
    "ExecuteTime": {
     "end_time": "2022-09-10T13:25:35.837449Z",
     "start_time": "2022-09-10T13:25:33.809067Z"
    }
   },
   "outputs": [
    {
     "name": "stdout",
     "output_type": "stream",
     "text": [
      "(1, 'Peter', 'Taipei')\n",
      "(3, 'John', 'Chicago')\n"
     ]
    }
   ],
   "source": [
    "#限制筆數\n",
    "import pymysql\n",
    "conn = pymysql.connect(host = 'localhost' ,\n",
    "                       port = 3306 , \n",
    "                       user = 'root' ,\n",
    "                       charset = 'utf8' , \n",
    "                       password = 'han' ,\n",
    "                       database = 'mydb1')\n",
    "\n",
    "mycursor = conn.cursor()\n",
    "\n",
    "mycursor.execute('SELECT * FROM customers LIMIT 2')\n",
    "result = mycursor.fetchall()\n",
    "for r in result:\n",
    "    print(r)"
   ]
  },
  {
   "cell_type": "markdown",
   "id": "b0e3d818",
   "metadata": {},
   "source": [
    "# 修改"
   ]
  },
  {
   "cell_type": "code",
   "execution_count": 4,
   "id": "b0db6478",
   "metadata": {
    "ExecuteTime": {
     "end_time": "2022-09-10T12:45:49.611726Z",
     "start_time": "2022-09-10T12:45:46.943541Z"
    }
   },
   "outputs": [
    {
     "name": "stdout",
     "output_type": "stream",
     "text": [
      "(1, 'Peter', 'Taipei')\n",
      "(2, 'Kevin', 'NEW Taipei')\n",
      "(3, 'John', 'Tokyo')\n",
      "(4, 'Nancy', 'Beijing')\n"
     ]
    }
   ],
   "source": [
    "#將 id=2 的客戶欄位改為 New Taipei \n",
    "import pymysql\n",
    "conn = pymysql.connect(host = 'localhost' ,\n",
    "                       port = 3306 ,\n",
    "                       user = 'root' ,\n",
    "                       charset = 'utf8' ,\n",
    "                       password = 'han' ,\n",
    "                       database = 'mydb1')\n",
    "mycursor = conn.cursor()\n",
    "\n",
    "#UPDATE 表格 SET 欄位 1=xx, 欄位 2=xx, ...WHERE條件\n",
    "sql = \"UPDATE customers SET City = 'NEW Taipei' WHERE id = 2\"\n",
    "mycursor.execute(sql)\n",
    "conn.commit()\n",
    "\n",
    "mycursor.execute('SELECT * FROM customers')\n",
    "result = mycursor.fetchall()\n",
    "for r in result:\n",
    "    print(r)"
   ]
  },
  {
   "cell_type": "code",
   "execution_count": 6,
   "id": "90a8f358",
   "metadata": {
    "ExecuteTime": {
     "end_time": "2022-09-10T13:06:03.921207Z",
     "start_time": "2022-09-10T13:06:01.752003Z"
    }
   },
   "outputs": [
    {
     "name": "stdout",
     "output_type": "stream",
     "text": [
      "(1, 'Peter', 'Taipei')\n",
      "(2, 'Kevin', 'NEW Taipei')\n",
      "(3, 'John', 'Chicago')\n",
      "(4, 'Nancy', 'Beijing')\n"
     ]
    }
   ],
   "source": [
    "#將Tokyo改為chicago\n",
    "import pymysql\n",
    "conn = pymysql.connect(host = 'localhost' ,\n",
    "                       port = 3306,\n",
    "                       user = 'root',\n",
    "                       charset = 'utf8' ,\n",
    "                       password = 'han' ,\n",
    "                       database = 'mydb1')\n",
    "\n",
    "mycursor = conn.cursor()\n",
    "\n",
    "sql = \"UPDATE customers SET City = 'Chicago' WHERE City = 'Tokyo'\"\n",
    "mycursor.execute(sql)\n",
    "conn.commit()\n",
    "\n",
    "mycursor.execute(\"SELECT * FROM customers\")\n",
    "result = mycursor.fetchall()\n",
    "for r in result:\n",
    "    print(r)"
   ]
  },
  {
   "cell_type": "markdown",
   "id": "ff9cd962",
   "metadata": {},
   "source": [
    "# 刪除"
   ]
  },
  {
   "cell_type": "code",
   "execution_count": 9,
   "id": "f6a03c5d",
   "metadata": {
    "ExecuteTime": {
     "end_time": "2022-09-10T13:19:39.865625Z",
     "start_time": "2022-09-10T13:19:37.676452Z"
    }
   },
   "outputs": [
    {
     "name": "stdout",
     "output_type": "stream",
     "text": [
      "(1, 'Peter', 'Taipei')\n",
      "(3, 'John', 'Chicago')\n",
      "(4, 'Nancy', 'Beijing')\n"
     ]
    }
   ],
   "source": [
    "#刪除資料\n",
    "import pymysql\n",
    "conn = pymysql.connect(host='localhost',\n",
    "                       port=3306,\n",
    "                       user='root',\n",
    "                       charset='utf8',\n",
    "                       password='han',\n",
    "                       database='mydb1')\n",
    "mycursor = conn.cursor()\n",
    "\n",
    "# DELETE from 表格 WHERE 條件\n",
    "sql = 'DELETE from customers WHERE id = 2'\n",
    "mycursor.execute(sql)\n",
    "conn.commit()\n",
    "\n",
    "mycursor.execute('SELECT * FROM customers')\n",
    "result = mycursor.fetchall()\n",
    "for r in result:\n",
    "    print(r)"
   ]
  },
  {
   "cell_type": "code",
   "execution_count": 11,
   "id": "a6ef4c3b",
   "metadata": {
    "ExecuteTime": {
     "end_time": "2022-09-10T21:25:52.364703Z",
     "start_time": "2022-09-10T13:29:37.374579Z"
    }
   },
   "outputs": [
    {
     "data": {
      "text/plain": [
       "0"
      ]
     },
     "execution_count": 11,
     "metadata": {},
     "output_type": "execute_result"
    }
   ],
   "source": [
    "#刪除表格\n",
    "import pymysql\n",
    "conn = pymysql.connect(host = 'localhost' ,\n",
    "                       port = 3306 , \n",
    "                       user = 'root' ,\n",
    "                       charset = 'utf8' ,\n",
    "                       password = 'han' ,\n",
    "                       database = 'mydb1')\n",
    "\n",
    "mycursor = conn.cursor()\n",
    "sql = 'DROP TABLE IF EXISTS customers'\n",
    "mycursor.execute(sql)"
   ]
  },
  {
   "cell_type": "code",
   "execution_count": null,
   "id": "62b6cab9",
   "metadata": {},
   "outputs": [],
   "source": []
  }
 ],
 "metadata": {
  "kernelspec": {
   "display_name": "Python 3 (ipykernel)",
   "language": "python",
   "name": "python3"
  },
  "language_info": {
   "codemirror_mode": {
    "name": "ipython",
    "version": 3
   },
   "file_extension": ".py",
   "mimetype": "text/x-python",
   "name": "python",
   "nbconvert_exporter": "python",
   "pygments_lexer": "ipython3",
   "version": "3.9.7"
  },
  "toc": {
   "base_numbering": 1,
   "nav_menu": {},
   "number_sections": true,
   "sideBar": true,
   "skip_h1_title": false,
   "title_cell": "Table of Contents",
   "title_sidebar": "Contents",
   "toc_cell": false,
   "toc_position": {},
   "toc_section_display": true,
   "toc_window_display": false
  },
  "varInspector": {
   "cols": {
    "lenName": 16,
    "lenType": 16,
    "lenVar": 40
   },
   "kernels_config": {
    "python": {
     "delete_cmd_postfix": "",
     "delete_cmd_prefix": "del ",
     "library": "var_list.py",
     "varRefreshCmd": "print(var_dic_list())"
    },
    "r": {
     "delete_cmd_postfix": ") ",
     "delete_cmd_prefix": "rm(",
     "library": "var_list.r",
     "varRefreshCmd": "cat(var_dic_list()) "
    }
   },
   "types_to_exclude": [
    "module",
    "function",
    "builtin_function_or_method",
    "instance",
    "_Feature"
   ],
   "window_display": false
  }
 },
 "nbformat": 4,
 "nbformat_minor": 5
}
