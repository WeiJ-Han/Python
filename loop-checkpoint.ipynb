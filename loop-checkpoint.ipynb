{
 "cells": [
  {
   "cell_type": "markdown",
   "id": "3eef5e06",
   "metadata": {},
   "source": [
    "# 基本FOR迴圈"
   ]
  },
  {
   "cell_type": "code",
   "execution_count": 13,
   "id": "92278f7b",
   "metadata": {},
   "outputs": [
    {
     "name": "stdout",
     "output_type": "stream",
     "text": [
      "['da2.py', 'da3.py']\n"
     ]
    }
   ],
   "source": [
    "#資料類別判斷\n",
    "files = ['da1.c','da2.py','da3.py','da4.java']\n",
    "py = []\n",
    "for i in files: \n",
    "    if i.endswith('py'):\n",
    "        py.append(i)\n",
    "print(py)"
   ]
  },
  {
   "cell_type": "code",
   "execution_count": 26,
   "id": "82a82211",
   "metadata": {},
   "outputs": [
    {
     "name": "stdout",
     "output_type": "stream",
     "text": [
      "目前fruits2串列 :  ['香蕉', '芭樂', '西瓜']\n",
      "['芭樂']\n"
     ]
    }
   ],
   "source": [
    "#刪除重複元素\n",
    "fruits1 = ['蘋果', '香蕉', '西瓜', '水蜜桃', '百香果']\n",
    "fruits2 = ['香蕉', '芭樂', '西瓜']\n",
    "print(\"目前fruits2串列 : \", fruits2)\n",
    "for i in fruits2[:]:\n",
    "    if i in fruits1:\n",
    "        fruits2.remove(i)\n",
    "print(fruits2)"
   ]
  },
  {
   "cell_type": "code",
   "execution_count": 65,
   "id": "8bc4b30d",
   "metadata": {},
   "outputs": [
    {
     "name": "stdout",
     "output_type": "stream",
     "text": [
      "目前fruits串列 :  ['蘋果', '香蕉', '西瓜', '水蜜桃', '百香果']\n",
      "刪除 蘋果\n",
      "目前fruits串列 :  ['香蕉', '西瓜', '水蜜桃', '百香果']\n",
      "刪除 香蕉\n",
      "目前fruits串列 :  ['西瓜', '水蜜桃', '百香果']\n",
      "刪除 西瓜\n",
      "目前fruits串列 :  ['水蜜桃', '百香果']\n",
      "刪除 水蜜桃\n",
      "目前fruits串列 :  ['百香果']\n",
      "刪除 百香果\n",
      "目前fruits串列 :  []\n"
     ]
    }
   ],
   "source": [
    "#刪除所有元素\n",
    "fruits = ['蘋果', '香蕉', '西瓜', '水蜜桃', '百香果']\n",
    "print(\"目前fruits串列 : \", fruits)\n",
    "\n",
    "for fruit in fruits[:]:\n",
    "    fruits.remove(fruit)\n",
    "    print(f\"刪除 {fruit}\")\n",
    "    print(\"目前fruits串列 : \", fruits)"
   ]
  },
  {
   "cell_type": "code",
   "execution_count": 74,
   "id": "9d7e44fa",
   "metadata": {},
   "outputs": [
    {
     "name": "stdout",
     "output_type": "stream",
     "text": [
      "10\n",
      "[1, 2, 3, 4, 5, 6, 7, 8, 9, 10, 11]\n"
     ]
    }
   ],
   "source": [
    "# Range(Start,Stop,Step)\n",
    "n = int(input())\n",
    "total = [1 + i for i in range(n+1)]\n",
    "print(total)"
   ]
  },
  {
   "cell_type": "code",
   "execution_count": 77,
   "id": "589dc15d",
   "metadata": {},
   "outputs": [
    {
     "name": "stdout",
     "output_type": "stream",
     "text": [
      "[[3, 4, 5], [5, 12, 13], [6, 8, 10], [8, 15, 17], [9, 12, 15]]\n"
     ]
    }
   ],
   "source": [
    "x= [[a,b,c] for a in range(1,20) for b in range(a,20) for c in range(b,20)\n",
    "    if a**2 + b**2 == c**2]\n",
    "print(x)"
   ]
  },
  {
   "cell_type": "code",
   "execution_count": 84,
   "id": "e70b72c4",
   "metadata": {},
   "outputs": [
    {
     "name": "stdout",
     "output_type": "stream",
     "text": [
      "Red Circle\n",
      "Red Square\n",
      "Green Circle\n",
      "Green Square\n",
      "Blue Circle\n",
      "Blue Square\n"
     ]
    }
   ],
   "source": [
    "# 串列\n",
    "colors = [\"Red\",\"Green\",\"Blue\"]\n",
    "shapes = [\"Circle\",\"Square\"]\n",
    "result = [[i,j] for i in colors for j in shapes]\n",
    "for i,j in result:\n",
    "    print(i,j)"
   ]
  },
  {
   "cell_type": "code",
   "execution_count": 119,
   "id": "2cb07f2e",
   "metadata": {},
   "outputs": [
    {
     "name": "stdout",
     "output_type": "stream",
     "text": [
      "99 94 93 91 88 "
     ]
    }
   ],
   "source": [
    "# break(出迴圈)\n",
    "scores = [94, 82, 60, 91, 88, 79, 61, 93, 99, 77]\n",
    "scores.sort(reverse=True) #降冪\n",
    "count = 0\n",
    "for i in scores:\n",
    "    count += 1\n",
    "    print(i , end =' ')\n",
    "    if count == 5:\n",
    "        break"
   ]
  },
  {
   "cell_type": "code",
   "execution_count": 123,
   "id": "90dd2437",
   "metadata": {},
   "outputs": [
    {
     "name": "stdout",
     "output_type": "stream",
     "text": [
      "['James', 202]\n",
      "['Durant', 205]\n",
      "['David', 211]\n"
     ]
    }
   ],
   "source": [
    "#continue(返回迴圈)\n",
    "players = [['James', 202],\n",
    "           ['Curry', 193],\n",
    "           ['Durant', 205],\n",
    "           ['Jordan', 199],\n",
    "           ['David', 211]]\n",
    "for i in players:\n",
    "    if i[1] <= 200:\n",
    "        continue\n",
    "    print(i)"
   ]
  },
  {
   "cell_type": "code",
   "execution_count": 131,
   "id": "ad61fe75",
   "metadata": {},
   "outputs": [
    {
     "name": "stdout",
     "output_type": "stream",
     "text": [
      "13\n",
      "質數\n"
     ]
    }
   ],
   "source": [
    "#else(與 if...break搭配)\n",
    "num = int(input())\n",
    "if num == 2:\n",
    "    print('質數')\n",
    "else:\n",
    "    for i in range(2,n):\n",
    "        if num % i == 0:\n",
    "            print('不為質數')\n",
    "            break\n",
    "    else:\n",
    "        print('質數')"
   ]
  },
  {
   "cell_type": "code",
   "execution_count": 20,
   "id": "b589ac61",
   "metadata": {},
   "outputs": [
    {
     "name": "stdout",
     "output_type": "stream",
     "text": [
      "1 : 21\n",
      "2 : 29\n",
      "4 : 33\n",
      "7 : 26\n",
      "8 : 28\n"
     ]
    }
   ],
   "source": [
    "# enumerate\n",
    "scores = [21,29,18,33,12,17,26,28,15,19] \n",
    "for count, scores in enumerate(scores,1):\n",
    "    if scores >= 20:\n",
    "        print(f'{count} : {scores}')"
   ]
  },
  {
   "cell_type": "markdown",
   "id": "a6646517",
   "metadata": {},
   "source": [
    "# while迴圈"
   ]
  },
  {
   "cell_type": "code",
   "execution_count": 135,
   "id": "73bb42d4",
   "metadata": {},
   "outputs": [
    {
     "name": "stdout",
     "output_type": "stream",
     "text": [
      "人機對話專欄,告訴我心事吧,我會重複你告訴我的心事!\n",
      "輸入 q 可以結束對話\n",
      "= w\n",
      "w\n",
      "人機對話專欄,告訴我心事吧,我會重複你告訴我的心事!\n",
      "輸入 q 可以結束對話\n",
      "= q\n"
     ]
    }
   ],
   "source": [
    "msg1 = '人機對話專欄,告訴我心事吧,我會重複你告訴我的心事!'\n",
    "msg2 = '輸入 q 可以結束對話'\n",
    "msg = msg1 + '\\n' + msg2 + '\\n' + '= '\n",
    "active = True\n",
    "while active:\n",
    "    input_msg = input(msg)\n",
    "    if input_msg != 'q':\n",
    "        print(input_msg)\n",
    "    else:\n",
    "        active = False"
   ]
  },
  {
   "cell_type": "code",
   "execution_count": 9,
   "id": "529dfd8f",
   "metadata": {},
   "outputs": [
    {
     "name": "stdout",
     "output_type": "stream",
     "text": [
      "5\n",
      "猜大一點\n",
      "50\n",
      "猜小一點\n",
      "100\n",
      "猜小一點\n",
      "25\n",
      "猜小一點\n",
      "12\n",
      "猜大一點\n",
      "15\n",
      "猜大一點\n",
      "20\n",
      "猜大一點\n",
      "23\n",
      "猜大一點\n",
      "24\n",
      "猜對\n"
     ]
    }
   ],
   "source": [
    "import random\n",
    "answer = random.randint(1,100)\n",
    "guess = 0\n",
    "while guess != answer:\n",
    "    guess = int(input())\n",
    "    if guess > answer:\n",
    "        print('猜小一點')\n",
    "    elif guess < answer:\n",
    "        print('猜大一點')\n",
    "    else:\n",
    "        print('猜對')"
   ]
  },
  {
   "cell_type": "code",
   "execution_count": 10,
   "id": "d7182051",
   "metadata": {},
   "outputs": [
    {
     "name": "stdout",
     "output_type": "stream",
     "text": [
      "1\n",
      "2\n",
      "3\n",
      "4\n",
      "0\n",
      "10\n"
     ]
    }
   ],
   "source": [
    "n = int(input())\n",
    "sum = 0 #哨兵值\n",
    "while n:\n",
    "    sum += n\n",
    "    n = int(input())\n",
    "print(sum)"
   ]
  },
  {
   "cell_type": "code",
   "execution_count": 13,
   "id": "12b36ac0",
   "metadata": {},
   "outputs": [
    {
     "name": "stdout",
     "output_type": "stream",
     "text": [
      "請輸入人數 = 3\n",
      "Curry Jordan James "
     ]
    }
   ],
   "source": [
    "# break(強制離開)\n",
    "players = ['Curry', 'Jordan', 'James', 'Durant', 'Obama', 'Kevin', 'Lin']\n",
    "n = int(input(\"請輸入人數 = \"))\n",
    "if n > len(players) : n = 7\n",
    "index = 0\n",
    "while index < len(players):\n",
    "    if index == n:\n",
    "        break\n",
    "    print(players[index],end=' ')\n",
    "    index += 1"
   ]
  },
  {
   "cell_type": "code",
   "execution_count": 25,
   "id": "04c5e512",
   "metadata": {},
   "outputs": [
    {
     "name": "stdout",
     "output_type": "stream",
     "text": [
      "[['Jordan', 990], ['Curry', 893]]\n",
      "[['David', 2110], ['Durant', 2050], ['James', 1030]]\n"
     ]
    }
   ],
   "source": [
    "#可迭代物件\n",
    "buyers = [['James', 1030],              \n",
    "           ['Curry', 893],\n",
    "           ['Durant', 2050],\n",
    "           ['Jordan', 990],\n",
    "           ['David', 2110]]\n",
    "goldbuyers = []                         \n",
    "vipbuyers =[]                           \n",
    "while buyers:\n",
    "    index_buyers = buyers.pop() #移除串列並顯示最後一個元素\n",
    "    if index_buyers[1] >= 1000:\n",
    "        vipbuyers.append(index_buyers)\n",
    "    else:\n",
    "        goldbuyers.append(index_buyers)\n",
    "print(goldbuyers)\n",
    "print(vipbuyers)"
   ]
  },
  {
   "cell_type": "code",
   "execution_count": 28,
   "id": "633763da",
   "metadata": {},
   "outputs": [
    {
     "name": "stdout",
     "output_type": "stream",
     "text": [
      "DeepStone購物中心\n",
      "['電視', '冰箱', '洗衣機', '電扇', '冷氣機'] \n",
      "\n",
      "沙發\n",
      "q\n",
      "[]\n"
     ]
    }
   ],
   "source": [
    "store = 'DeepStone購物中心'\n",
    "products = ['電視','冰箱','洗衣機','電扇','冷氣機']\n",
    "cart = []\n",
    "print(store)\n",
    "print(products,\"\\n\")\n",
    "\n",
    "active = True\n",
    "while active:\n",
    "    msg = input()\n",
    "    if msg == 'q' or msg =='Q':\n",
    "        break\n",
    "    else:\n",
    "        if msg in products:\n",
    "            cart.append(msg)\n",
    "print(cart)"
   ]
  },
  {
   "cell_type": "code",
   "execution_count": 11,
   "id": "e7d02821",
   "metadata": {
    "ExecuteTime": {
     "end_time": "2022-05-09T12:38:23.061357Z",
     "start_time": "2022-05-09T12:38:23.031381Z"
    }
   },
   "outputs": [
    {
     "name": "stdout",
     "output_type": "stream",
     "text": [
      "填入總分與平均\n",
      "[1, '洪錦魁', 80, 95, 88, 263, 87.7, 0]\n",
      "[2, '洪冰儒', 98, 97, 96, 291, 97.0, 0]\n",
      "[3, '洪雨星', 91, 93, 95, 279, 93.0, 0]\n",
      "[4, '洪冰雨', 92, 94, 90, 276, 92.0, 0]\n",
      "[5, '洪星宇', 92, 97, 80, 269, 89.7, 0]\n",
      "填入名次\n",
      "[2, '洪冰儒', 98, 97, 96, 291, 97.0, 1]\n",
      "[3, '洪雨星', 91, 93, 95, 279, 93.0, 2]\n",
      "[4, '洪冰雨', 92, 94, 90, 276, 92.0, 3]\n",
      "[5, '洪星宇', 92, 97, 80, 269, 89.7, 4]\n",
      "[1, '洪錦魁', 80, 95, 88, 263, 87.7, 5]\n",
      "最後成績單\n",
      "[1, '洪錦魁', 80, 95, 88, 263, 87.7, 5]\n",
      "[2, '洪冰儒', 98, 97, 96, 291, 97.0, 1]\n",
      "[3, '洪雨星', 91, 93, 95, 279, 93.0, 2]\n",
      "[4, '洪冰雨', 92, 94, 90, 276, 92.0, 3]\n",
      "[5, '洪星宇', 92, 97, 80, 269, 89.7, 4]\n"
     ]
    }
   ],
   "source": [
    "# ch7_46.py\n",
    "sc = [[1, '洪錦魁', 80, 95, 88, 0, 0, 0],\n",
    "      [2, '洪冰儒', 98, 97, 96, 0, 0, 0],\n",
    "      [3, '洪雨星', 91, 93, 95, 0, 0, 0],\n",
    "      [4, '洪冰雨', 92, 94, 90, 0, 0, 0],\n",
    "      [5, '洪星宇', 92, 97, 80, 0, 0, 0],\n",
    "     ]\n",
    "# 計算總分與平均\n",
    "print(\"填入總分與平均\")\n",
    "for i in range(len(sc)):\n",
    "    sc[i][5] = sum(sc[i][2:5])              # 填入總分\n",
    "    sc[i][6] = round((sc[i][5] / 3), 1)     # 填入平均\n",
    "    print(sc[i])\n",
    "sc.sort(key=lambda x:x[5],reverse=True)     # 依據總分高往低排序\n",
    "# 以下填入名次\n",
    "print(\"填入名次\")\n",
    "for i in range(len(sc)):                    # 填入名次\n",
    "    sc[i][7] = i + 1\n",
    "    print(sc[i])\n",
    "# 以下依座號排序\n",
    "sc.sort(key=lambda x:x[0])                  # 依據座號排序\n",
    "print(\"最後成績單\")\n",
    "for i in range(len(sc)):\n",
    "    print(sc[i])"
   ]
  },
  {
   "cell_type": "code",
   "execution_count": 15,
   "id": "48138d1d",
   "metadata": {
    "ExecuteTime": {
     "end_time": "2022-05-09T12:43:43.555081Z",
     "start_time": "2022-05-09T12:43:41.988925Z"
    }
   },
   "outputs": [
    {
     "name": "stdout",
     "output_type": "stream",
     "text": [
      "i =  100000  3.1415826535897197758\n",
      "i =  200000  3.1415876535897617750\n",
      "i =  300000  3.1415893202564642017\n",
      "i =  400000  3.1415901535897439167\n",
      "i =  500000  3.1415906535896920282\n",
      "i =  600000  3.1415909869230147500\n",
      "i =  700000  3.1415912250182609355\n",
      "i =  800000  3.1415914035897172241\n",
      "i =  900000  3.1415915424786509114\n",
      "i = 1000000  3.1415916535897743245\n"
     ]
    }
   ],
   "source": [
    "x = 1_000_000\n",
    "pi = 0\n",
    "for i in range(1,x+1):\n",
    "    pi += 4*((-1)**(i+1)/(2*i-1))\n",
    "    if i % 100000 == 0:\n",
    "        print(f'{i = :7d}  { pi:20.19f}' )"
   ]
  },
  {
   "cell_type": "code",
   "execution_count": 16,
   "id": "8ed625c4",
   "metadata": {
    "ExecuteTime": {
     "end_time": "2022-05-09T12:47:13.561695Z",
     "start_time": "2022-05-09T12:47:13.552707Z"
    }
   },
   "outputs": [
    {
     "name": "stdout",
     "output_type": "stream",
     "text": [
      "20,15\n"
     ]
    }
   ],
   "source": [
    "chicken = 0\n",
    "while True:\n",
    "    rabbit = 35- chicken\n",
    "    if 2*chicken + 4 * rabbit == 100:\n",
    "        print(f'{chicken},{rabbit}')\n",
    "        break\n",
    "    chicken +=1"
   ]
  }
 ],
 "metadata": {
  "kernelspec": {
   "display_name": "Python 3 (ipykernel)",
   "language": "python",
   "name": "python3"
  },
  "language_info": {
   "codemirror_mode": {
    "name": "ipython",
    "version": 3
   },
   "file_extension": ".py",
   "mimetype": "text/x-python",
   "name": "python",
   "nbconvert_exporter": "python",
   "pygments_lexer": "ipython3",
   "version": "3.9.7"
  },
  "toc": {
   "base_numbering": 1,
   "nav_menu": {},
   "number_sections": true,
   "sideBar": true,
   "skip_h1_title": false,
   "title_cell": "Table of Contents",
   "title_sidebar": "Contents",
   "toc_cell": false,
   "toc_position": {},
   "toc_section_display": true,
   "toc_window_display": false
  },
  "varInspector": {
   "cols": {
    "lenName": 16,
    "lenType": 16,
    "lenVar": 40
   },
   "kernels_config": {
    "python": {
     "delete_cmd_postfix": "",
     "delete_cmd_prefix": "del ",
     "library": "var_list.py",
     "varRefreshCmd": "print(var_dic_list())"
    },
    "r": {
     "delete_cmd_postfix": ") ",
     "delete_cmd_prefix": "rm(",
     "library": "var_list.r",
     "varRefreshCmd": "cat(var_dic_list()) "
    }
   },
   "types_to_exclude": [
    "module",
    "function",
    "builtin_function_or_method",
    "instance",
    "_Feature"
   ],
   "window_display": false
  }
 },
 "nbformat": 4,
 "nbformat_minor": 5
}
