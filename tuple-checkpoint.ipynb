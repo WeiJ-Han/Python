{
 "cells": [
  {
   "cell_type": "markdown",
   "id": "35d96aaa",
   "metadata": {},
   "source": [
    "# enumerate"
   ]
  },
  {
   "cell_type": "code",
   "execution_count": 14,
   "id": "36c7e479",
   "metadata": {
    "ExecuteTime": {
     "end_time": "2022-05-10T06:05:11.289261Z",
     "start_time": "2022-05-10T06:05:11.267273Z"
    },
    "scrolled": true
   },
   "outputs": [
    {
     "name": "stdout",
     "output_type": "stream",
     "text": [
      "(0, 'coffee')\n",
      "(1, 'tea')\n",
      "(2, 'wine')\n",
      "<class 'str'>\n"
     ]
    }
   ],
   "source": [
    "drinks = (\"coffee\", \"tea\", \"wine\")\n",
    "for i in enumerate(drinks):\n",
    "    print(i)\n",
    "print(type(i[1]))"
   ]
  },
  {
   "cell_type": "code",
   "execution_count": 17,
   "id": "d5b22cbc",
   "metadata": {
    "ExecuteTime": {
     "end_time": "2022-05-10T06:06:56.209955Z",
     "start_time": "2022-05-10T06:06:56.190969Z"
    }
   },
   "outputs": [
    {
     "name": "stdout",
     "output_type": "stream",
     "text": [
      "10 coffee\n",
      "11 tea\n",
      "12 wine\n"
     ]
    }
   ],
   "source": [
    "for count,j in enumerate(drinks,10):\n",
    "    print(count,j)"
   ]
  },
  {
   "cell_type": "markdown",
   "id": "65695803",
   "metadata": {},
   "source": [
    "# zip()"
   ]
  },
  {
   "cell_type": "code",
   "execution_count": 22,
   "id": "95927d62",
   "metadata": {
    "ExecuteTime": {
     "end_time": "2022-05-10T06:11:53.480866Z",
     "start_time": "2022-05-10T06:11:53.453883Z"
    }
   },
   "outputs": [
    {
     "data": {
      "text/plain": [
       "<zip at 0x252496e39c0>"
      ]
     },
     "execution_count": 22,
     "metadata": {},
     "output_type": "execute_result"
    }
   ],
   "source": [
    "x1 = 1,2,3\n",
    "x2 = [3,2,1]\n",
    "x3 = 4,5,6\n",
    "i = zip(x1,x2,x3)\n"
   ]
  },
  {
   "cell_type": "markdown",
   "id": "0ee7fdb1",
   "metadata": {},
   "source": [
    "# 生成式(generator)，只能迭代一次"
   ]
  },
  {
   "cell_type": "code",
   "execution_count": 27,
   "id": "9022d6ee",
   "metadata": {
    "ExecuteTime": {
     "end_time": "2022-05-10T06:16:09.023355Z",
     "start_time": "2022-05-10T06:16:09.010359Z"
    }
   },
   "outputs": [
    {
     "name": "stdout",
     "output_type": "stream",
     "text": [
      "[0, 1, 2]\n",
      "()\n"
     ]
    }
   ],
   "source": [
    "x = (i for i in range(3))\n",
    "xlsx = list(x)\n",
    "print(xlsx)\n",
    "xtup = tuple(x)\n",
    "print(xtup)"
   ]
  },
  {
   "cell_type": "markdown",
   "id": "90ea5b17",
   "metadata": {},
   "source": [
    "# 專題"
   ]
  },
  {
   "cell_type": "code",
   "execution_count": 33,
   "id": "36f61eb3",
   "metadata": {
    "ExecuteTime": {
     "end_time": "2022-05-10T07:12:49.960510Z",
     "start_time": "2022-05-10T07:12:49.944519Z"
    }
   },
   "outputs": [
    {
     "name": "stdout",
     "output_type": "stream",
     "text": [
      "平均值: 6.5\n",
      "變異數: 1.25\n",
      "標準差: 1.118033988749895\n"
     ]
    }
   ],
   "source": [
    "# 統計值\n",
    "vals = (5, 6, 7, 8)\n",
    "mean = sum(vals)/len(vals)\n",
    "print(f'平均值: {mean}')\n",
    "\n",
    "var = 0\n",
    "for i in vals:\n",
    "    var += ((i - mean)**2)\n",
    "var = var/(len(vals))\n",
    "print(f'變異數: {var}')\n",
    "\n",
    "dev = 0\n",
    "for v in vals:\n",
    "    dev += ((v - mean)**2)\n",
    "dev = (dev/(len(vals)))**0.5\n",
    "print(\"標準差:\", dev)"
   ]
  },
  {
   "cell_type": "code",
   "execution_count": 39,
   "id": "de5cbe07",
   "metadata": {
    "ExecuteTime": {
     "end_time": "2022-05-10T07:41:28.737130Z",
     "start_time": "2022-05-10T07:41:28.705496Z"
    }
   },
   "outputs": [
    {
     "name": "stdout",
     "output_type": "stream",
     "text": [
      "台北: 8000\n",
      "台中: 5000\n",
      "高雄: 6000\n"
     ]
    }
   ],
   "source": [
    "# 解包\n",
    "f = ['台北', '台中', '高雄']\n",
    "info = [8000, 5000, 6000]\n",
    "zipData = zip(f, info)\n",
    "x = list(zipData)\n",
    "for i, j in x:\n",
    "    print(f'{i}: {j}')"
   ]
  }
 ],
 "metadata": {
  "kernelspec": {
   "display_name": "Python 3 (ipykernel)",
   "language": "python",
   "name": "python3"
  },
  "language_info": {
   "codemirror_mode": {
    "name": "ipython",
    "version": 3
   },
   "file_extension": ".py",
   "mimetype": "text/x-python",
   "name": "python",
   "nbconvert_exporter": "python",
   "pygments_lexer": "ipython3",
   "version": "3.9.7"
  },
  "toc": {
   "base_numbering": 1,
   "nav_menu": {},
   "number_sections": true,
   "sideBar": true,
   "skip_h1_title": false,
   "title_cell": "Table of Contents",
   "title_sidebar": "Contents",
   "toc_cell": false,
   "toc_position": {},
   "toc_section_display": true,
   "toc_window_display": false
  },
  "varInspector": {
   "cols": {
    "lenName": 16,
    "lenType": 16,
    "lenVar": 40
   },
   "kernels_config": {
    "python": {
     "delete_cmd_postfix": "",
     "delete_cmd_prefix": "del ",
     "library": "var_list.py",
     "varRefreshCmd": "print(var_dic_list())"
    },
    "r": {
     "delete_cmd_postfix": ") ",
     "delete_cmd_prefix": "rm(",
     "library": "var_list.r",
     "varRefreshCmd": "cat(var_dic_list()) "
    }
   },
   "types_to_exclude": [
    "module",
    "function",
    "builtin_function_or_method",
    "instance",
    "_Feature"
   ],
   "window_display": false
  }
 },
 "nbformat": 4,
 "nbformat_minor": 5
}
