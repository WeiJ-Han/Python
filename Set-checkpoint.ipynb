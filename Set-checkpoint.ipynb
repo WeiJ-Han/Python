{
 "cells": [
  {
   "cell_type": "markdown",
   "id": "12179114",
   "metadata": {},
   "source": [
    "# 建立集合"
   ]
  },
  {
   "cell_type": "code",
   "execution_count": 2,
   "id": "19115d02",
   "metadata": {
    "ExecuteTime": {
     "end_time": "2022-05-13T00:26:14.330443Z",
     "start_time": "2022-05-13T00:26:14.322446Z"
    }
   },
   "outputs": [
    {
     "name": "stdout",
     "output_type": "stream",
     "text": [
      "<class 'dict'>\n",
      "<class 'set'>\n"
     ]
    }
   ],
   "source": [
    "empty_dict = {}\n",
    "print(type(empty_dict))\n",
    "empty_set = set()\n",
    "print(type(empty_set))"
   ]
  },
  {
   "cell_type": "markdown",
   "id": "d3788197",
   "metadata": {},
   "source": [
    "# 集合的操作"
   ]
  },
  {
   "cell_type": "code",
   "execution_count": 22,
   "id": "0601fd05",
   "metadata": {
    "ExecuteTime": {
     "end_time": "2022-05-13T03:04:26.018629Z",
     "start_time": "2022-05-13T03:04:26.007638Z"
    }
   },
   "outputs": [
    {
     "name": "stdout",
     "output_type": "stream",
     "text": [
      "frozenset({'Peter'})\n",
      "frozenset({'Eric', 'Tom', 'Peter', 'Nelson', 'Kevin'})\n",
      "frozenset({'Eric', 'Kevin'})\n",
      "frozenset({'Tom', 'Nelson', 'Kevin', 'Eric'})\n"
     ]
    }
   ],
   "source": [
    "math = frozenset(['Kevin', 'Peter', 'Eric'])\n",
    "physics = {'Peter', 'Nelson', 'Tom'}\n",
    "# 交集\n",
    "print(math & physics)\n",
    "# 聯集\n",
    "print(math | physics)\n",
    "# 差集\n",
    "print(math - physics)\n",
    "# 對稱差集\n",
    "print(math ^ physics)"
   ]
  },
  {
   "cell_type": "markdown",
   "id": "b98a00c2",
   "metadata": {},
   "source": [
    "# 集合的方法"
   ]
  },
  {
   "cell_type": "code",
   "execution_count": 15,
   "id": "f2920324",
   "metadata": {
    "ExecuteTime": {
     "end_time": "2022-05-13T02:54:46.129653Z",
     "start_time": "2022-05-13T02:54:46.113663Z"
    }
   },
   "outputs": [
    {
     "name": "stdout",
     "output_type": "stream",
     "text": [
      "True\n",
      "True\n",
      "True\n",
      "{'e', 'a', 'k', 'b', 'c', 'g', 'd', 'f'}\n",
      "{'a', 'k', 'b', 'c', 'g', 'd', 'f'}  隨機刪除e\n",
      "set()\n"
     ]
    }
   ],
   "source": [
    "A = {'a', 'b', 'c', 'd', 'e', 'f', 'g', 'k'}\n",
    "B = {'a', 'b', 'c'}\n",
    "C = {'k', 'm', 'n'}\n",
    "\n",
    "print(B.isdisjoint(C))  # 是否為交集\n",
    "print(B.issubset(A))  # 是否為子集\n",
    "print(A.issuperset(B))  # 是否為父集\n",
    "\n",
    "A.discard('K')\n",
    "print(A)\n",
    "random_del = A.pop()  # 隨機刪除\n",
    "print(f'{A}  隨機刪除{random_del}')\n",
    "A.clear()\n",
    "print(A)"
   ]
  },
  {
   "cell_type": "markdown",
   "id": "cd906353",
   "metadata": {},
   "source": [
    "# 更改呼叫集合的方法"
   ]
  },
  {
   "cell_type": "code",
   "execution_count": 14,
   "id": "5128009c",
   "metadata": {
    "ExecuteTime": {
     "end_time": "2022-05-13T02:53:15.874046Z",
     "start_time": "2022-05-13T02:53:15.861057Z"
    }
   },
   "outputs": [
    {
     "name": "stdout",
     "output_type": "stream",
     "text": [
      "None\n",
      "{'c'}\n",
      "{'a', 'k', 'c'}\n",
      "{'w', 'c', 'f'}\n"
     ]
    }
   ],
   "source": [
    "# 交集\n",
    "A = {'a', 'b', 'c', 'd'}\n",
    "B = {'a', 'k', 'c'}\n",
    "C = {'c', 'f', 'w'}\n",
    "print(A.intersection_update(B, C))\n",
    "print(A)\n",
    "print(B)\n",
    "print(C)"
   ]
  },
  {
   "cell_type": "code",
   "execution_count": 19,
   "id": "0832c50f",
   "metadata": {
    "ExecuteTime": {
     "end_time": "2022-05-13T03:03:21.697530Z",
     "start_time": "2022-05-13T03:03:21.679541Z"
    }
   },
   "outputs": [
    {
     "name": "stdout",
     "output_type": "stream",
     "text": [
      "{'Toyota', 'Audi', 'Ford', 'Nissan'}\n",
      "{'Audi', 'Ford'}\n"
     ]
    }
   ],
   "source": [
    "cars1 = {'Audi', 'Ford', 'Toyota'}\n",
    "cars2 = {'Nissan', 'Toyota'}\n",
    "# 連集\n",
    "cars1.update(cars2)\n",
    "print(cars1)\n",
    "# 差集\n",
    "cars1.difference_update(cars2)\n",
    "print(cars1)"
   ]
  },
  {
   "cell_type": "markdown",
   "id": "ff1852fb",
   "metadata": {},
   "source": [
    "# 專題"
   ]
  },
  {
   "cell_type": "code",
   "execution_count": 5,
   "id": "bb99e144",
   "metadata": {
    "ExecuteTime": {
     "end_time": "2022-05-13T08:07:51.600707Z",
     "start_time": "2022-05-13T08:07:51.586714Z"
    }
   },
   "outputs": [
    {
     "name": "stdout",
     "output_type": "stream",
     "text": [
      "{'d': 1, 'p': 1, 'n': 1, 'o': 1, 's': 1, 't': 1, 'e': 3}\n"
     ]
    }
   ],
   "source": [
    "word = 'deepstone'\n",
    "i = {j: word.count(j) for j in set(word)}\n",
    "print(i)"
   ]
  },
  {
   "cell_type": "code",
   "execution_count": 11,
   "id": "3f81d6ae",
   "metadata": {
    "ExecuteTime": {
     "end_time": "2022-05-13T08:23:30.128598Z",
     "start_time": "2022-05-13T08:23:30.105616Z"
    }
   },
   "outputs": [
    {
     "name": "stdout",
     "output_type": "stream",
     "text": [
      "1Bloody Mary\n",
      "2Blue Hawaiian\n",
      "2New Yorker\n",
      "2Bloody Mary\n",
      "3Blue Hawaiian\n",
      "4New Yorker\n"
     ]
    }
   ],
   "source": [
    "cocktail = {\n",
    "    'Blue Hawaiian': {'Rum', 'Sweet Wine', 'Cream', 'Pineapple Juice', 'Lemon Juice'},\n",
    "    'Ginger Mojito': {'Rum', 'Ginger', 'Mint Leaves', 'Lime Juice', 'Ginger Soda'},\n",
    "    'New Yorker': {'Whiskey', 'Red Wine', 'Lemon Juice', 'Sugar Syrup'},\n",
    "    'Bloody Mary': {'Vodka', 'Lemon Juice', 'Tomato Juice', 'Tabasco', 'little Sale'}\n",
    "}\n",
    "\n",
    "for name, ori in cocktail.items():\n",
    "    if 'Vodka' in ori:\n",
    "        print(f'1{name}')\n",
    "for name, ori in cocktail.items():\n",
    "    if 'Lemon Juice' in ori:\n",
    "        print(f'2{name}')\n",
    "for name, ori in cocktail.items():\n",
    "    if 'Rum' in ori and not 'Ginger' in ori:\n",
    "        print(f'3{name}')\n",
    "for name, ori in cocktail.items():\n",
    "    if 'Lemon Juice' in ori and 'Cream' not in ori and 'Tabasco' not in ori:\n",
    "        print(f'4{name}')"
   ]
  },
  {
   "cell_type": "code",
   "execution_count": null,
   "id": "9ef9bbc7",
   "metadata": {},
   "outputs": [],
   "source": []
  }
 ],
 "metadata": {
  "kernelspec": {
   "display_name": "Python 3 (ipykernel)",
   "language": "python",
   "name": "python3"
  },
  "language_info": {
   "codemirror_mode": {
    "name": "ipython",
    "version": 3
   },
   "file_extension": ".py",
   "mimetype": "text/x-python",
   "name": "python",
   "nbconvert_exporter": "python",
   "pygments_lexer": "ipython3",
   "version": "3.9.7"
  },
  "toc": {
   "base_numbering": 1,
   "nav_menu": {},
   "number_sections": true,
   "sideBar": true,
   "skip_h1_title": false,
   "title_cell": "Table of Contents",
   "title_sidebar": "Contents",
   "toc_cell": false,
   "toc_position": {},
   "toc_section_display": true,
   "toc_window_display": false
  },
  "varInspector": {
   "cols": {
    "lenName": 16,
    "lenType": 16,
    "lenVar": 40
   },
   "kernels_config": {
    "python": {
     "delete_cmd_postfix": "",
     "delete_cmd_prefix": "del ",
     "library": "var_list.py",
     "varRefreshCmd": "print(var_dic_list())"
    },
    "r": {
     "delete_cmd_postfix": ") ",
     "delete_cmd_prefix": "rm(",
     "library": "var_list.r",
     "varRefreshCmd": "cat(var_dic_list()) "
    }
   },
   "types_to_exclude": [
    "module",
    "function",
    "builtin_function_or_method",
    "instance",
    "_Feature"
   ],
   "window_display": false
  }
 },
 "nbformat": 4,
 "nbformat_minor": 5
}
