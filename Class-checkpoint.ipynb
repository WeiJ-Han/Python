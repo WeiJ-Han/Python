{
 "cells": [
  {
   "cell_type": "markdown",
   "id": "1d127dc7",
   "metadata": {},
   "source": [
    "# 類別的定義與使用"
   ]
  },
  {
   "cell_type": "code",
   "execution_count": 17,
   "id": "0345bcc9",
   "metadata": {
    "ExecuteTime": {
     "end_time": "2022-06-12T13:31:22.832351Z",
     "start_time": "2022-06-12T13:31:22.816726Z"
    }
   },
   "outputs": [
    {
     "name": "stdout",
     "output_type": "stream",
     "text": [
      "Hung  目前餘額:  0\n",
      "Hung  目前餘額:  0\n",
      "Hung  目前餘額:  12000\n"
     ]
    }
   ],
   "source": [
    "class Banks():\n",
    "    ''' 定義銀行類別 '''\n",
    "\n",
    "    def __init__(self, uname):              # 初始化方法\n",
    "        self.__name = uname                 # 設定私有存款者名字\n",
    "        self.__balance = 0                  # 設定私有開戶金額是0\n",
    "        self.__bankname = \"Taipei Bank\"     # 設定私有銀行名稱\n",
    "\n",
    "    def save_money(self, money):            # 設計存款方法\n",
    "        self.__balance += money             # 執行存款\n",
    "        print(\"存款 \", money, \" 完成\")      # 列印存款完成\n",
    "\n",
    "    def withdraw_money(self, money):        # 設計提款方法\n",
    "        self.__balance -= money             # 執行提款\n",
    "        print(\"提款 \", money, \" 完成\")      # 列印提款完成\n",
    "\n",
    "    def get_balance(self):                  # 獲得存款餘額\n",
    "        print(self.__name.title(), \" 目前餘額: \", self.__balance)\n",
    "\n",
    "hungbank = Banks('hung')                    # 定義物件hungbank\n",
    "hungbank.get_balance()\n",
    "hungbank.__balance = 10000                  # 類別外直接竄改存款餘額\n",
    "hungbank.get_balance()\n",
    "hungbank._Banks__balance = 12000\n",
    "hungbank.get_balance()"
   ]
  },
  {
   "cell_type": "markdown",
   "id": "c087357b",
   "metadata": {},
   "source": [
    "# 封裝"
   ]
  },
  {
   "cell_type": "code",
   "execution_count": 23,
   "id": "87d6f8cc",
   "metadata": {
    "ExecuteTime": {
     "end_time": "2022-06-12T14:36:04.082823Z",
     "start_time": "2022-06-12T14:36:04.030856Z"
    }
   },
   "outputs": [
    {
     "name": "stdout",
     "output_type": "stream",
     "text": [
      "50 美金可以兌換 1485 台幣\n"
     ]
    },
    {
     "data": {
      "text/plain": [
       "1485"
      ]
     },
     "execution_count": 23,
     "metadata": {},
     "output_type": "execute_result"
    }
   ],
   "source": [
    "class Banks():\n",
    "    def __init__(self, uname):\n",
    "        self.__name = uname   #私有屬性\n",
    "        self.__balance = 0\n",
    "        self.__bankname = 'Taipei Bank'\n",
    "        self.__rate = 30\n",
    "        self.__service_charge = 0.01\n",
    "    def save_money(self, money):\n",
    "        self.__balance += money\n",
    "        print(\"存款\",money,\"完成\")\n",
    "        \n",
    "    def withdraw_money(self, money):\n",
    "        self.__balance -= money\n",
    "        print(\"提款\",money,\"完成\")\n",
    "        \n",
    "    def get_balance(self):\n",
    "        print(self.__name.title(),\"目前餘額:\",self.__balance)\n",
    "        \n",
    "    def usa_to_taiwan(self, usa_d):\n",
    "        self.result = self.__cal_rate(usa_d)\n",
    "        return self.result\n",
    "    def __cal_rate(self,usa_d):  #私有方法\n",
    "        return int(usa_d * self.__rate *(1 - self.__service_charge))\n",
    "    \n",
    "hungbank = Banks('hung')\n",
    "usdallor = 50\n",
    "print(usdallor,\"美金可以兌換\",hungbank.usa_to_taiwan(usdallor),\"台幣\")\n",
    "#破解\n",
    "hungbankbank._Banks_ballance = 12000\n",
    "hungbank._Banks__cal_rate(50)"
   ]
  },
  {
   "cell_type": "code",
   "execution_count": 11,
   "id": "eae901f8",
   "metadata": {
    "ExecuteTime": {
     "end_time": "2022-06-15T07:57:46.288069Z",
     "start_time": "2022-06-15T07:57:46.218978Z"
    }
   },
   "outputs": [
    {
     "name": "stdout",
     "output_type": "stream",
     "text": [
      "inside the getscore\n",
      "0\n",
      "inside the setscore\n",
      "inside the getscore\n",
      "80\n",
      "inside the getscore\n"
     ]
    },
    {
     "data": {
      "text/plain": [
       "80"
      ]
     },
     "execution_count": 11,
     "metadata": {},
     "output_type": "execute_result"
    }
   ],
   "source": [
    "#妝飾器\n",
    "class Score():\n",
    "    def __init__(self, score):\n",
    "        self.__score = score\n",
    "    @property #getter\n",
    "    def sc(self):\n",
    "        print(\"inside the getscore\")\n",
    "        return self.__score\n",
    "    @sc.setter #setter\n",
    "    def sc(self, score):\n",
    "        print(\"inside the setscore\")\n",
    "        self.__score = score\n",
    "    \n",
    "stu = Score(0)\n",
    "print(stu.sc)\n",
    "stu.sc=80           \n",
    "print(stu.sc)\n",
    "stu.score = 100\n",
    "stu.sc"
   ]
  },
  {
   "cell_type": "code",
   "execution_count": 16,
   "id": "900704c3",
   "metadata": {
    "ExecuteTime": {
     "end_time": "2022-06-15T08:10:41.638459Z",
     "start_time": "2022-06-15T08:10:41.625470Z"
    }
   },
   "outputs": [],
   "source": [
    "class Counter():\n",
    "    counter = 0                             # 類別屬性,可由類別本身調用\n",
    "    def __init__(self):\n",
    "        Counter.counter += 1                # 更新指標\n",
    "    @classmethod\n",
    "    def show_counter(cls):                  # 類別方法,可由類別本身調用\n",
    "        print(\"class method\")\n",
    "        print(\"counter = \", cls.counter)    # 也可使用Counter.counter調用\n",
    "        print(\"counter = \", Counter.counter)\n",
    "        \n",
    "one = Counter()\n",
    "two = Counter()\n",
    "three = Counter()"
   ]
  },
  {
   "cell_type": "code",
   "execution_count": 18,
   "id": "f2fe7cfb",
   "metadata": {
    "ExecuteTime": {
     "end_time": "2022-06-15T08:13:45.433152Z",
     "start_time": "2022-06-15T08:13:45.422156Z"
    }
   },
   "outputs": [
    {
     "name": "stdout",
     "output_type": "stream",
     "text": [
      "I like Pizza\n"
     ]
    }
   ],
   "source": [
    "class Pizza():\n",
    "    @staticmethod  #靜態方法\n",
    "    def demo():\n",
    "        print(\"I like Pizza\")\n",
    "        \n",
    "Pizza.demo()"
   ]
  },
  {
   "cell_type": "markdown",
   "id": "4a3552c5",
   "metadata": {},
   "source": [
    "# 類別的繼承"
   ]
  },
  {
   "cell_type": "code",
   "execution_count": 20,
   "id": "e5039f39",
   "metadata": {
    "ExecuteTime": {
     "end_time": "2022-06-16T08:52:55.615002Z",
     "start_time": "2022-06-16T08:52:55.582020Z"
    }
   },
   "outputs": [
    {
     "name": "stdout",
     "output_type": "stream",
     "text": [
      "My petLily is sleeping\n",
      "My petMy Pet Gimi is running in the street\n",
      "My monkeyTaloy is running in the forest\n"
     ]
    }
   ],
   "source": [
    "# 衍生類別引用基底類別的方法\n",
    "class Animals():\n",
    "    \"\"\"Animals類別, 這是基底類別 \"\"\"\n",
    "    def __init__(self, animal_name):\n",
    "        self.name = animal_name # 紀錄動物名稱\n",
    "    def which(self):\n",
    "        return 'My pet' + self.name.title()\n",
    "    def  action(self):\n",
    "        return 'sleeping'\n",
    "\n",
    "class Dogs(Animals):\n",
    "    \"\"\"Dogs類別, 這是Animal的衍生類別 \"\"\"\n",
    "    def __init__(self, dog_name):\n",
    "        super().__init__('My pet ' + dog_name.title())\n",
    "        #用super呼叫animals類別的初始化方法\n",
    "    def action(self):\n",
    "       return 'running in the street' \n",
    "\n",
    "class Monkeys():\n",
    "    def __init__(self, monkey_name):\n",
    "        self.name = 'My monkey'+ monkey_name.title()\n",
    "    def which(self):\n",
    "        return self.name\n",
    "    def action(self):\n",
    "        return 'running in the forest'\n",
    "    \n",
    "def doing(obj):\n",
    "    print(obj.which(), \"is\", obj.action())\n",
    "        \n",
    "\n",
    "\n",
    "my_cat = Animals('lily')         # 建立Dogs物件以及測試\n",
    "doing(my_cat)\n",
    "my_dog = Dogs('gimi')        \n",
    "doing(my_dog)\n",
    "my_monkey = Monkeys('taloy')     \n",
    "doing(my_monkey)"
   ]
  },
  {
   "cell_type": "code",
   "execution_count": 16,
   "id": "80b8fbb4",
   "metadata": {
    "ExecuteTime": {
     "end_time": "2022-06-16T03:09:26.037519Z",
     "start_time": "2022-06-16T03:09:26.019530Z"
    }
   },
   "outputs": [
    {
     "name": "stdout",
     "output_type": "stream",
     "text": [
      "\n",
      "Ira資產:  5000 \n",
      "父親資產:  8000 \n",
      "祖父資產:  10000 \n",
      "Ivan資產:  3000\n"
     ]
    }
   ],
   "source": [
    "#三代同堂\n",
    "class Grandfather():\n",
    "    \"\"\" 定義祖父的資產 \"\"\"\n",
    "    def __init__(self):\n",
    "        self.grandfathermoney = 10000\n",
    "\n",
    "class Father(Grandfather):      # 父類別是Grandfather\n",
    "    \"\"\" 定義父親的資產 \"\"\"\n",
    "    def __init__(self):\n",
    "        self.fathermoney = 8000\n",
    "        super().__init__()   #將父類別屬性複製\n",
    "\n",
    "class Ivan(Father):             # 父類別是Father\n",
    "    \"\"\" 定義Ivan的資產 \"\"\"\n",
    "    def __init__(self):\n",
    "        self.ivanmoney = 3000\n",
    "        super().__init__()\n",
    "\n",
    "#兄弟\n",
    "class Ira(Father):\n",
    "    def __init__(self):\n",
    "        self.iramoney = 5000\n",
    "        super().__init__()\n",
    "    \n",
    "    def get_money(self):        # 取得資產明細\n",
    "        print(\"\\nIra資產: \", self.iramoney,\n",
    "              \"\\n父親資產: \", self.fathermoney,\n",
    "              \"\\n祖父資產: \", self.grandfathermoney,\n",
    "              \"\\nIvan資產: \", Ivan().ivanmoney)  #兄弟類別取得\n",
    "\n",
    "ira = Ira()\n",
    "ira.get_money()                # 取得資產明細"
   ]
  },
  {
   "cell_type": "code",
   "execution_count": 30,
   "id": "b92823ae",
   "metadata": {
    "ExecuteTime": {
     "end_time": "2022-06-16T13:27:24.556390Z",
     "start_time": "2022-06-16T13:27:24.536404Z"
    }
   },
   "outputs": [
    {
     "name": "stdout",
     "output_type": "stream",
     "text": [
      "Grandfather\n",
      "Father\n",
      "Uncle\n",
      "Ivan\n",
      "Ivan物件類型 <class '__main__.Ivan'>\n",
      "father屬於Ivan類型: False\n"
     ]
    }
   ],
   "source": [
    "#多重繼承\n",
    "class Grandfather():\n",
    "    \"\"\" 定義祖父類別 \"\"\"\n",
    "    def __init__(self):\n",
    "        super().__init__()\n",
    "        print(\"Grandfather\")\n",
    "        \n",
    "class Father(Grandfather):\n",
    "    \"\"\" 定義父親類別 \"\"\"\n",
    "    def __init__(self):\n",
    "        super().__init__()\n",
    "        print(\"Father\")\n",
    "\n",
    "class Uncle(Grandfather):\n",
    "    \"\"\" 定義叔父類別 \"\"\"\n",
    "    def __init__(self):\n",
    "        super().__init__() \n",
    "        print(\"Uncle\")\n",
    "\n",
    "class Ivan(Uncle, Father): \n",
    "    \"\"\" 定義Ivan類別 \"\"\"\n",
    "    def __init__(self):\n",
    "        super().__init__() #繼承所有父類別\n",
    "        print(\"Ivan\")\n",
    "\n",
    "x = Ivan() \n",
    "print(f'Ivan物件類型',type(ivan))\n",
    "print(f\"father屬於Ivan類型:\",isinstance(Father,Ivan))"
   ]
  },
  {
   "cell_type": "markdown",
   "id": "1075f4d2",
   "metadata": {},
   "source": [
    "# 類別的特殊方法(12_39)"
   ]
  },
  {
   "cell_type": "code",
   "execution_count": 32,
   "id": "7b92a633",
   "metadata": {
    "ExecuteTime": {
     "end_time": "2022-06-16T13:45:22.991127Z",
     "start_time": "2022-06-16T13:45:22.966144Z"
    }
   },
   "outputs": [
    {
     "name": "stdout",
     "output_type": "stream",
     "text": [
      "Hung\n"
     ]
    }
   ],
   "source": [
    "class Name:\n",
    "    def __init__(self, name):\n",
    "        self.name = name\n",
    "    def __str__(self):\n",
    "        return f\"{self.name}\"\n",
    "    __repr__ = __str__\n",
    "    \n",
    "a = Name('Hung')\n",
    "print(a)"
   ]
  },
  {
   "cell_type": "code",
   "execution_count": 33,
   "id": "25a18711",
   "metadata": {
    "ExecuteTime": {
     "end_time": "2022-06-16T13:50:51.859484Z",
     "start_time": "2022-06-16T13:50:51.847492Z"
    }
   },
   "outputs": [
    {
     "name": "stdout",
     "output_type": "stream",
     "text": [
      "0\n",
      "1\n",
      "1\n",
      "2\n",
      "3\n",
      "5\n",
      "8\n",
      "13\n",
      "21\n",
      "34\n",
      "55\n",
      "89\n"
     ]
    }
   ],
   "source": [
    "class Fib():\n",
    "    def __init__(self, max):\n",
    "        self.max = max\n",
    "        \n",
    "    def __iter__(self):\n",
    "        self.a = 0\n",
    "        self.b = 1\n",
    "        return self\n",
    "    \n",
    "    def __next__(self):\n",
    "        fib = self.a\n",
    "        if fib > self.max:\n",
    "            raise StopIteration\n",
    "        self.a, self.b = self.b, self.a + self.b\n",
    "        return fib\n",
    "for i in Fib(100):\n",
    "    print(i)"
   ]
  },
  {
   "cell_type": "code",
   "execution_count": 34,
   "id": "f7f73297",
   "metadata": {
    "ExecuteTime": {
     "end_time": "2022-06-16T13:54:57.684554Z",
     "start_time": "2022-06-16T13:54:57.664566Z"
    }
   },
   "outputs": [
    {
     "name": "stdout",
     "output_type": "stream",
     "text": [
      "True\n",
      "False\n"
     ]
    }
   ],
   "source": [
    "class City():\n",
    "    def __init__ (self, name):\n",
    "        self.name = name\n",
    "    def __eq__(self,city2):\n",
    "        return self.name.upper() == city2.name.upper()\n",
    "\n",
    "one = City(\"Taipei\")\n",
    "two = City(\"taipei\")\n",
    "three = City('myphone')\n",
    "print(one == two)\n",
    "print(one == three)"
   ]
  },
  {
   "cell_type": "markdown",
   "id": "11d28a06",
   "metadata": {},
   "source": [
    "# 專題"
   ]
  },
  {
   "cell_type": "code",
   "execution_count": 36,
   "id": "d4017253",
   "metadata": {
    "ExecuteTime": {
     "end_time": "2022-06-16T14:10:33.965616Z",
     "start_time": "2022-06-16T14:10:33.939635Z"
    }
   },
   "outputs": [
    {
     "name": "stdout",
     "output_type": "stream",
     "text": [
      "圓形的顏色: Green\n",
      "圓形的半徑: 5\n",
      "圓形的直徑: 10\n",
      "圓形的圓周: 31.41596\n",
      "圓形的面積: 78.53989999999999\n",
      "圓形的直徑: <bound method Circle.getDiameter of <__main__.Circle object at 0x000001ADC4E77E20>>\n"
     ]
    }
   ],
   "source": [
    "class Geometric():\n",
    "    def __init__(self):\n",
    "        self.color = \"Green\"\n",
    "class Circle(Geometric):\n",
    "    def __init__(self, radius):\n",
    "        super().__init__()\n",
    "        self.PI = 3.141596\n",
    "        self.radius = radius\n",
    "    def getRadius(self):\n",
    "        return self.radius\n",
    "    def setRadius(self, radius):\n",
    "        self.radius = radius\n",
    "    def getDiameter(self):\n",
    "        return self.radius * 2\n",
    "    def getPerimeter(self):\n",
    "        return self.radius * 2 * self.PI\n",
    "    def getArea(self):\n",
    "        return self.PI * (self.radius ** 2)\n",
    "    def getColor(self):\n",
    "        return color\n",
    "    \n",
    "A = Circle(5)\n",
    "print(f'圓形的顏色:',A.color)\n",
    "print(f'圓形的半徑:',A.getRadius())\n",
    "print(f'圓形的直徑:',A.getDiameter())\n",
    "print(f'圓形的圓周:',A.getPerimeter())\n",
    "print(f'圓形的面積:',A.getArea())\n",
    "A.setRadius(10)\n",
    "print(f'圓形的直徑:',A.getDiameter)"
   ]
  },
  {
   "cell_type": "code",
   "execution_count": null,
   "id": "6d9f431c",
   "metadata": {},
   "outputs": [],
   "source": []
  }
 ],
 "metadata": {
  "kernelspec": {
   "display_name": "Python 3 (ipykernel)",
   "language": "python",
   "name": "python3"
  },
  "language_info": {
   "codemirror_mode": {
    "name": "ipython",
    "version": 3
   },
   "file_extension": ".py",
   "mimetype": "text/x-python",
   "name": "python",
   "nbconvert_exporter": "python",
   "pygments_lexer": "ipython3",
   "version": "3.9.7"
  },
  "toc": {
   "base_numbering": 1,
   "nav_menu": {},
   "number_sections": true,
   "sideBar": true,
   "skip_h1_title": false,
   "title_cell": "Table of Contents",
   "title_sidebar": "Contents",
   "toc_cell": false,
   "toc_position": {},
   "toc_section_display": true,
   "toc_window_display": false
  },
  "varInspector": {
   "cols": {
    "lenName": 16,
    "lenType": 16,
    "lenVar": 40
   },
   "kernels_config": {
    "python": {
     "delete_cmd_postfix": "",
     "delete_cmd_prefix": "del ",
     "library": "var_list.py",
     "varRefreshCmd": "print(var_dic_list())"
    },
    "r": {
     "delete_cmd_postfix": ") ",
     "delete_cmd_prefix": "rm(",
     "library": "var_list.r",
     "varRefreshCmd": "cat(var_dic_list()) "
    }
   },
   "types_to_exclude": [
    "module",
    "function",
    "builtin_function_or_method",
    "instance",
    "_Feature"
   ],
   "window_display": false
  }
 },
 "nbformat": 4,
 "nbformat_minor": 5
}
