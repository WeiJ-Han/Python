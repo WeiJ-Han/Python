{
 "cells": [
  {
   "cell_type": "code",
   "execution_count": 2,
   "id": "db443444",
   "metadata": {},
   "outputs": [
    {
     "name": "stdout",
     "output_type": "stream",
     "text": [
      "53864.20019421873\n"
     ]
    }
   ],
   "source": [
    "money = 50000*(1+0.015)**5\n",
    "print(money)"
   ]
  },
  {
   "cell_type": "code",
   "execution_count": 5,
   "id": "c126ed54",
   "metadata": {},
   "outputs": [
    {
     "name": "stdout",
     "output_type": "stream",
     "text": [
      "殘值是\n",
      "614124.9999999999\n"
     ]
    }
   ],
   "source": [
    "car = 1000000 *  (1 - 0.15) ** 3\n",
    "print('殘值是')\n",
    "print(car)"
   ]
  },
  {
   "cell_type": "code",
   "execution_count": 18,
   "id": "be25fd54",
   "metadata": {},
   "outputs": [
    {
     "name": "stdout",
     "output_type": "stream",
     "text": [
      "圓面積\n",
      "78.53975\n"
     ]
    }
   ],
   "source": [
    "PI = 3.14159\n",
    "r=5\n",
    "print(\"圓面積\")\n",
    "print(PI * r * r)"
   ]
  },
  {
   "cell_type": "code",
   "execution_count": 19,
   "id": "0b020f1c",
   "metadata": {},
   "outputs": [
    {
     "name": "stdout",
     "output_type": "stream",
     "text": [
      "圓面積\n",
      "78.53981633974483\n"
     ]
    }
   ],
   "source": [
    "import math\n",
    "\n",
    "r = 5\n",
    "print(\"圓面積\")\n",
    "print(math.pi * r * r)"
   ]
  },
  {
   "cell_type": "code",
   "execution_count": 20,
   "id": "eee25984",
   "metadata": {},
   "outputs": [
    {
     "data": {
      "text/plain": [
       "4"
      ]
     },
     "execution_count": 20,
     "metadata": {},
     "output_type": "execute_result"
    }
   ],
   "source": [
    "x=9%5\n",
    "x"
   ]
  },
  {
   "cell_type": "code",
   "execution_count": 22,
   "id": "64cbf8dc",
   "metadata": {},
   "outputs": [
    {
     "data": {
      "text/plain": [
       "1"
      ]
     },
     "execution_count": 22,
     "metadata": {},
     "output_type": "execute_result"
    }
   ],
   "source": [
    "y=9//5\n",
    "y"
   ]
  },
  {
   "cell_type": "code",
   "execution_count": 25,
   "id": "34b60d8c",
   "metadata": {},
   "outputs": [
    {
     "data": {
      "text/plain": [
       "15"
      ]
     },
     "execution_count": 25,
     "metadata": {},
     "output_type": "execute_result"
    }
   ],
   "source": [
    "x = 10\n",
    "x += 5\n",
    "x"
   ]
  },
  {
   "cell_type": "code",
   "execution_count": 26,
   "id": "c85943ec",
   "metadata": {},
   "outputs": [
    {
     "data": {
      "text/plain": [
       "10"
      ]
     },
     "execution_count": 26,
     "metadata": {},
     "output_type": "execute_result"
    }
   ],
   "source": [
    "x = y = z = 10\n",
    "x\n",
    "y\n",
    "z"
   ]
  },
  {
   "cell_type": "code",
   "execution_count": 29,
   "id": "f4f1f81e",
   "metadata": {},
   "outputs": [
    {
     "name": "stdout",
     "output_type": "stream",
     "text": [
      "10 20 30\n",
      "30 20 10\n"
     ]
    }
   ],
   "source": [
    "x,y,z = 10,20,30\n",
    "print(x,y,z)\n",
    "x,y,z = z,y,x\n",
    "print(x,y,z)"
   ]
  },
  {
   "cell_type": "code",
   "execution_count": 32,
   "id": "5b9f2c93",
   "metadata": {},
   "outputs": [
    {
     "data": {
      "text/plain": [
       "4"
      ]
     },
     "execution_count": 32,
     "metadata": {},
     "output_type": "execute_result"
    }
   ],
   "source": [
    "x = 9//5\n",
    "x\n",
    "y = 9 % 5\n",
    "y\n",
    "z = divmod(9,5)\n",
    "z\n",
    "del x\n",
    "x,y = z\n",
    "x\n",
    "y"
   ]
  },
  {
   "cell_type": "code",
   "execution_count": 33,
   "id": "e1739c60",
   "metadata": {},
   "outputs": [
    {
     "name": "stdout",
     "output_type": "stream",
     "text": [
      "10\n",
      "<class 'int'>\n",
      "<class 'float'>\n"
     ]
    }
   ],
   "source": [
    "x = 10 \n",
    "y = x / 3\n",
    "print(x)\n",
    "print(type(x))\n",
    "print(type(y))"
   ]
  },
  {
   "cell_type": "code",
   "execution_count": 34,
   "id": "e7bf6b7c",
   "metadata": {},
   "outputs": [
    {
     "data": {
      "text/plain": [
       "10000000000000000000000000000000000000000000000000000000000000000000000000000000000000000000000000000"
      ]
     },
     "execution_count": 34,
     "metadata": {},
     "output_type": "execute_result"
    }
   ],
   "source": [
    "googol = 10**100\n",
    "googol"
   ]
  },
  {
   "cell_type": "code",
   "execution_count": 37,
   "id": "86f33ac0",
   "metadata": {},
   "outputs": [
    {
     "data": {
      "text/plain": [
       "1000000"
      ]
     },
     "execution_count": 37,
     "metadata": {},
     "output_type": "execute_result"
    }
   ],
   "source": [
    "x = 1_000_000\n",
    "x"
   ]
  },
  {
   "cell_type": "code",
   "execution_count": 38,
   "id": "8a2389c9",
   "metadata": {},
   "outputs": [
    {
     "name": "stdout",
     "output_type": "stream",
     "text": [
      "10\n",
      "<class 'int'>\n",
      "15.5\n",
      "<class 'float'>\n"
     ]
    }
   ],
   "source": [
    "x = 10 \n",
    "y = x + 5.5\n",
    "print(x)\n",
    "print(type(x))\n",
    "print(y)\n",
    "print(type(y))"
   ]
  },
  {
   "cell_type": "code",
   "execution_count": 39,
   "id": "2cac551a",
   "metadata": {},
   "outputs": [
    {
     "name": "stdout",
     "output_type": "stream",
     "text": [
      "10\n",
      "<class 'int'>\n",
      "15.5\n",
      "<class 'float'>\n"
     ]
    }
   ],
   "source": [
    "x = 10\n",
    "print(x)\n",
    "print(type(x))\n",
    "x += 5.5\n",
    "print(x)\n",
    "print(type(x))"
   ]
  },
  {
   "cell_type": "code",
   "execution_count": 40,
   "id": "eea78664",
   "metadata": {},
   "outputs": [
    {
     "name": "stdout",
     "output_type": "stream",
     "text": [
      "13\n",
      "0b1101\n"
     ]
    }
   ],
   "source": [
    "x = 0b1101\n",
    "print(x)\n",
    "y = 13\n",
    "print(bin(y))"
   ]
  },
  {
   "cell_type": "code",
   "execution_count": 41,
   "id": "d4cfaf08",
   "metadata": {},
   "outputs": [
    {
     "name": "stdout",
     "output_type": "stream",
     "text": [
      "47\n",
      "0o57\n"
     ]
    }
   ],
   "source": [
    "x = 0o57\n",
    "print(x)\n",
    "y = 47\n",
    "print(oct(y))"
   ]
  },
  {
   "cell_type": "code",
   "execution_count": 43,
   "id": "460a9903",
   "metadata": {},
   "outputs": [
    {
     "name": "stdout",
     "output_type": "stream",
     "text": [
      "93\n",
      "0x5d\n"
     ]
    }
   ],
   "source": [
    "x = 0x5D\n",
    "print(x)\n",
    "y=93\n",
    "print(hex(y))"
   ]
  },
  {
   "cell_type": "code",
   "execution_count": 44,
   "id": "a239dc1d",
   "metadata": {},
   "outputs": [
    {
     "name": "stdout",
     "output_type": "stream",
     "text": [
      "10.5\n",
      "<class 'float'>\n",
      "15\n",
      "<class 'int'>\n"
     ]
    }
   ],
   "source": [
    "x = 10.5\n",
    "print(x)\n",
    "print(type(x))\n",
    "y = int(x) + 5\n",
    "print(y)\n",
    "print(type(y))"
   ]
  },
  {
   "cell_type": "code",
   "execution_count": 46,
   "id": "66832da8",
   "metadata": {},
   "outputs": [
    {
     "data": {
      "text/plain": [
       "123456.0"
      ]
     },
     "execution_count": 46,
     "metadata": {},
     "output_type": "execute_result"
    }
   ],
   "source": [
    "x = 1.23456e+5\n",
    "x"
   ]
  },
  {
   "cell_type": "code",
   "execution_count": 47,
   "id": "3de596c3",
   "metadata": {},
   "outputs": [
    {
     "data": {
      "text/plain": [
       "0.000123"
      ]
     },
     "execution_count": 47,
     "metadata": {},
     "output_type": "execute_result"
    }
   ],
   "source": [
    "y = 1.23e-4\n",
    "y"
   ]
  },
  {
   "cell_type": "code",
   "execution_count": 48,
   "id": "7d897ea0",
   "metadata": {},
   "outputs": [
    {
     "data": {
      "text/plain": [
       "(3+5j)"
      ]
     },
     "execution_count": 48,
     "metadata": {},
     "output_type": "execute_result"
    }
   ],
   "source": [
    "3+5j"
   ]
  },
  {
   "cell_type": "code",
   "execution_count": 50,
   "id": "a4bd3788",
   "metadata": {},
   "outputs": [
    {
     "name": "stdout",
     "output_type": "stream",
     "text": [
      "-10\n",
      "10\n"
     ]
    }
   ],
   "source": [
    "x = -10\n",
    "print(x)\n",
    "print(abs(x))"
   ]
  },
  {
   "cell_type": "code",
   "execution_count": 51,
   "id": "843abccf",
   "metadata": {},
   "outputs": [
    {
     "name": "stdout",
     "output_type": "stream",
     "text": [
      "125\n"
     ]
    }
   ],
   "source": [
    "x = 5\n",
    "y = 3\n",
    "print(pow(x,y))"
   ]
  },
  {
   "cell_type": "code",
   "execution_count": 52,
   "id": "64e83689",
   "metadata": {},
   "outputs": [
    {
     "name": "stdout",
     "output_type": "stream",
     "text": [
      "以下輸出abs( )函數的應用\n",
      "-10\n",
      "10\n",
      "以下輸出pow( )函數的應用\n",
      "125\n",
      "以下輸出round(x)函數的應用\n",
      "47.5\n",
      "48\n",
      "48.5\n",
      "48\n",
      "49.5\n",
      "50\n",
      "以下輸出round(x,n)函數的應用\n",
      "2.15\n",
      "2.1\n",
      "2.25\n",
      "2.2\n",
      "2.151\n",
      "2.2\n",
      "2.251\n",
      "2.3\n"
     ]
    }
   ],
   "source": [
    "# ch3_10.py\n",
    "x = -10\n",
    "print(\"以下輸出abs( )函數的應用\")\n",
    "print(x)            # 輸出x變數\n",
    "print(abs(x))       # 輸出abs(x)\n",
    "x = 5\n",
    "y = 3\n",
    "print(\"以下輸出pow( )函數的應用\")\n",
    "print(pow(x, y))    # 輸出pow(x,y)\n",
    "x = 47.5\n",
    "print(\"以下輸出round(x)函數的應用\")\n",
    "print(x)            # 輸出x變數\n",
    "print(round(x))     # 輸出round(x)\n",
    "x = 48.5\n",
    "print(x)            # 輸出x變數\n",
    "print(round(x))     # 輸出round(x)\n",
    "x = 49.5\n",
    "print(x)            # 輸出x變數\n",
    "print(round(x))     # 輸出round(x)\n",
    "print(\"以下輸出round(x,n)函數的應用\")\n",
    "x = 2.15\n",
    "print(x)            # 輸出x變數\n",
    "print(round(x,1))   # 輸出round(x,1)\n",
    "x = 2.25\n",
    "print(x)            # 輸出x變數\n",
    "print(round(x,1))   # 輸出round(x,1)\n",
    "x = 2.151\n",
    "print(x)            # 輸出x變數\n",
    "print(round(x,1))   # 輸出round(x,1)\n",
    "x = 2.251\n",
    "print(x)            # 輸出x變數\n",
    "print(round(x,1))   # 輸出round(x,1)\n"
   ]
  },
  {
   "cell_type": "code",
   "execution_count": 53,
   "id": "1afeaaac",
   "metadata": {},
   "outputs": [
    {
     "name": "stdout",
     "output_type": "stream",
     "text": [
      "48.5\n",
      "48\n"
     ]
    }
   ],
   "source": [
    "x = 48.5\n",
    "print(x)            # 輸出x變數\n",
    "print(round(x))     # 輸出round(x)"
   ]
  },
  {
   "cell_type": "code",
   "execution_count": 54,
   "id": "ea37a9ef",
   "metadata": {},
   "outputs": [
    {
     "name": "stdout",
     "output_type": "stream",
     "text": [
      "Silicon Stone Education is an unbiased organization\n",
      "concentrated on bridging the gap ... \n",
      "Silicon Stone Education is an unbiased organization concentrated on bridging the gap ... \n",
      "Silicon Stone Education is an unbiased organization concentrated on bridging the gap ... \n",
      "Silicon Stone Education is an unbiased organization concentrated on bridging the gap ... \n"
     ]
    }
   ],
   "source": [
    "# ch3_16.py\n",
    "str1 = '''Silicon Stone Education is an unbiased organization\n",
    "concentrated on bridging the gap ... '''\n",
    "print(str1)                     # 字串內有分行符號\n",
    "str2 = '''Silicon Stone Education is an unbiased organization \\\n",
    "concentrated on bridging the gap ... '''\n",
    "print(str2)                     # 字串內沒有分行符號\n",
    "str3 = \"Silicon Stone Education is an unbiased organization \" \\\n",
    "       \"concentrated on bridging the gap ... \"\n",
    "print(str3)                     # 使用\\符號\n",
    "str4 = (\"Silicon Stone Education is an unbiased organization \"\n",
    "        \"concentrated on bridging the gap ... \")\n",
    "print(str4)                     # 使用小括號\n"
   ]
  },
  {
   "cell_type": "code",
   "execution_count": 55,
   "id": "c852cf70",
   "metadata": {},
   "outputs": [
    {
     "name": "stdout",
     "output_type": "stream",
     "text": [
      "I can't stop loving you.\n",
      "I can't stop loving you.\n",
      "I \tcan't stop \n",
      "loving you.\n"
     ]
    }
   ],
   "source": [
    "# ch3_17.py\n",
    "#以下輸出使用單引號設定的字串，需使用\\'\n",
    "str1 = 'I can\\'t stop loving you.'\n",
    "print(str1)\n",
    "#以下輸出使用雙引號設定的字串，不需使用\\'\n",
    "str2 = \"I can't stop loving you.\"\n",
    "print(str2)\n",
    "#以下輸出有\\t和\\n字元\n",
    "str3 = \"I \\tcan't stop \\nloving you.\"\n",
    "print(str3)\n"
   ]
  },
  {
   "cell_type": "code",
   "execution_count": 57,
   "id": "c71802e1",
   "metadata": {},
   "outputs": [
    {
     "name": "stdout",
     "output_type": "stream",
     "text": [
      "AAAAAAAAAA\n",
      "ABCABCABCABCABC\n"
     ]
    }
   ],
   "source": [
    "x1 = \"A\"\n",
    "X2 = x1 *10\n",
    "print(X2)\n",
    "x3 = \"ABC\"\n",
    "x4 = x3*5\n",
    "print(x4)"
   ]
  },
  {
   "cell_type": "code",
   "execution_count": 58,
   "id": "0f85c944",
   "metadata": {},
   "outputs": [
    {
     "name": "stdout",
     "output_type": "stream",
     "text": [
      "13\n",
      "1\n"
     ]
    }
   ],
   "source": [
    "dist = 384400\n",
    "speed = 1225\n",
    "total_hours = dist//speed\n",
    "days = total_hours // 24\n",
    "hours = total_hours % 24\n",
    "print(days)\n",
    "print(hours)\n",
    "divmod(total_hours,24)\n"
   ]
  },
  {
   "cell_type": "code",
   "execution_count": 59,
   "id": "0a234c8c",
   "metadata": {},
   "outputs": [
    {
     "data": {
      "text/plain": [
       "8"
      ]
     },
     "execution_count": 59,
     "metadata": {},
     "output_type": "execute_result"
    }
   ],
   "source": [
    "len('adafaffa')"
   ]
  },
  {
   "cell_type": "code",
   "execution_count": null,
   "id": "f51abab4",
   "metadata": {},
   "outputs": [],
   "source": []
  }
 ],
 "metadata": {
  "kernelspec": {
   "display_name": "Python 3 (ipykernel)",
   "language": "python",
   "name": "python3"
  },
  "language_info": {
   "codemirror_mode": {
    "name": "ipython",
    "version": 3
   },
   "file_extension": ".py",
   "mimetype": "text/x-python",
   "name": "python",
   "nbconvert_exporter": "python",
   "pygments_lexer": "ipython3",
   "version": "3.9.7"
  }
 },
 "nbformat": 4,
 "nbformat_minor": 5
}
