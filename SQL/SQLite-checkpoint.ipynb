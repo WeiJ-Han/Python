{
 "cells": [
  {
   "cell_type": "markdown",
   "id": "07857ae1",
   "metadata": {},
   "source": [
    "# 建立資料庫"
   ]
  },
  {
   "cell_type": "code",
   "execution_count": 2,
   "id": "e061e7c8",
   "metadata": {
    "ExecuteTime": {
     "end_time": "2022-09-08T12:38:12.493473Z",
     "start_time": "2022-09-08T12:38:12.184385Z"
    }
   },
   "outputs": [],
   "source": [
    "import sqlite3\n",
    "conn = sqlite3.connect('data29_2.db')\n",
    "cursor = conn.cursor()\n",
    "sql = '''Create table students(\n",
    "        id int,\n",
    "        name text,\n",
    "        gender text)'''\n",
    "cursor.execute(sql)\n",
    "cursor.close()\n",
    "conn.close()"
   ]
  },
  {
   "cell_type": "code",
   "execution_count": 3,
   "id": "937689b2",
   "metadata": {
    "ExecuteTime": {
     "end_time": "2022-09-08T12:38:14.764570Z",
     "start_time": "2022-09-08T12:38:14.381811Z"
    }
   },
   "outputs": [],
   "source": [
    "import sqlite3\n",
    "conn = sqlite3.connect('myInfo.db')\n",
    "sql = '''Create table students(\n",
    "        id int,\n",
    "        name text,\n",
    "        gender text)'''\n",
    "conn.execute(sql)\n",
    "conn.close()"
   ]
  },
  {
   "cell_type": "code",
   "execution_count": 4,
   "id": "ba3c0c29",
   "metadata": {
    "ExecuteTime": {
     "end_time": "2022-09-08T12:38:18.660655Z",
     "start_time": "2022-09-08T12:38:18.315507Z"
    }
   },
   "outputs": [],
   "source": [
    "# ID自動新增\n",
    "import sqlite3\n",
    "conn = sqlite3.connect('myInfo2.db')\n",
    "sql = '''Create table student2(\n",
    "        id INTEGER PRIMARY KEY AUTOINCREMENT,\n",
    "        name TEXT,\n",
    "        gender TEXT)'''\n",
    "conn.execute(sql)\n",
    "conn.close()"
   ]
  },
  {
   "cell_type": "markdown",
   "id": "7db5f1f9",
   "metadata": {},
   "source": [
    "# 新增"
   ]
  },
  {
   "cell_type": "code",
   "execution_count": 5,
   "id": "639de910",
   "metadata": {
    "ExecuteTime": {
     "end_time": "2022-09-08T12:39:15.816749Z",
     "start_time": "2022-09-08T12:38:21.661889Z"
    }
   },
   "outputs": [
    {
     "name": "stdout",
     "output_type": "stream",
     "text": [
      "請輸入myInfo資料庫students表單資料\n",
      "請輸入id:1\n",
      "請輸入name:John\n",
      "請輸入gender:M\n",
      "繼續(y/n)?y\n",
      "請輸入id:2\n",
      "請輸入name:Linda\n",
      "請輸入gender:F\n",
      "繼續(y/n)?y\n",
      "請輸入id:3\n",
      "請輸入name:athy\n",
      "請輸入gender:F\n",
      "繼續(y/n)?n\n"
     ]
    }
   ],
   "source": [
    "import sqlite3\n",
    "conn = sqlite3.connect('myInfo.db')\n",
    "print(\"請輸入myInfo資料庫students表單資料\")\n",
    "while True:\n",
    "    new_id = int(input('請輸入id:'))\n",
    "    new_name = input('請輸入name:')\n",
    "    new_gender = input('請輸入gender:')\n",
    "    x = (new_id, new_name, new_gender)\n",
    "    sql = '''insert into students values(?,?,?)'''\n",
    "    conn.execute(sql, x)\n",
    "    conn.commit()\n",
    "    again = input('繼續(y/n)?')\n",
    "    if again[0].lower() == 'n':\n",
    "        break\n",
    "conn.close()"
   ]
  },
  {
   "cell_type": "code",
   "execution_count": 1,
   "id": "41898a4a",
   "metadata": {
    "ExecuteTime": {
     "end_time": "2022-09-08T13:08:55.390492Z",
     "start_time": "2022-09-08T13:08:15.374459Z"
    }
   },
   "outputs": [
    {
     "name": "stdout",
     "output_type": "stream",
     "text": [
      "請輸入myInfo資料庫student2表單資料\n",
      "請輸入name: John\n",
      "請輸入genderM\n",
      "繼續(y/n)? y\n",
      "請輸入name: Linda\n",
      "請輸入genderF\n",
      "繼續(y/n)? y\n",
      "請輸入name: Kathy\n",
      "請輸入genderF\n",
      "繼續(y/n)? n\n"
     ]
    }
   ],
   "source": [
    "# ID自動新增\n",
    "import sqlite3\n",
    "conn = sqlite3.connect('myInfo2.db')\n",
    "print('請輸入myInfo資料庫student2表單資料')\n",
    "while True:\n",
    "    n_name = input(\"請輸入name: \")\n",
    "    n_gender = input(\"請輸入gender\")\n",
    "    x = (n_name, n_gender)\n",
    "    sql = '''insert into student2(name, gender) values(?,?)'''\n",
    "    conn.execute(sql, x)\n",
    "    conn.commit()\n",
    "    again = input('繼續(y/n)? ')\n",
    "    if again[0].lower() == 'n':\n",
    "        break\n",
    "conn.close()"
   ]
  },
  {
   "cell_type": "markdown",
   "id": "66eba899",
   "metadata": {},
   "source": [
    "# 查詢"
   ]
  },
  {
   "cell_type": "code",
   "execution_count": 2,
   "id": "a37a4766",
   "metadata": {
    "ExecuteTime": {
     "end_time": "2022-09-08T13:09:36.461724Z",
     "start_time": "2022-09-08T13:09:36.322116Z"
    }
   },
   "outputs": [
    {
     "name": "stdout",
     "output_type": "stream",
     "text": [
      "id =  1\n",
      "name =  John\n",
      "gender =  M\n",
      "id =  2\n",
      "name =  Linda\n",
      "gender =  F\n",
      "id =  3\n",
      "name =  athy\n",
      "gender =  F\n"
     ]
    }
   ],
   "source": [
    "import sqlite3\n",
    "conn = sqlite3.connect('myInfo.db')\n",
    "results = conn.execute('select * from students')\n",
    "for record in results:\n",
    "    print('id = ', record[0])\n",
    "    print('name = ', record[1])\n",
    "    print('gender = ', record[2])\n",
    "conn.close()"
   ]
  },
  {
   "cell_type": "code",
   "execution_count": 3,
   "id": "730ce232",
   "metadata": {
    "ExecuteTime": {
     "end_time": "2022-09-08T13:13:08.814951Z",
     "start_time": "2022-09-08T13:13:08.791519Z"
    }
   },
   "outputs": [
    {
     "name": "stdout",
     "output_type": "stream",
     "text": [
      "id =  1\n",
      "name =  John\n",
      "gender =  M\n",
      "id =  2\n",
      "name =  Linda\n",
      "gender =  F\n",
      "id =  3\n",
      "name =  Kathy\n",
      "gender =  F\n"
     ]
    }
   ],
   "source": [
    "# ID自動新增\n",
    "import sqlite3\n",
    "conn = sqlite3.connect(\"myInfo2.db\")\n",
    "results = conn.execute('SELECT * from student2')\n",
    "for record in results:\n",
    "    print('id = ', record[0])\n",
    "    print('name = ', record[1])\n",
    "    print('gender = ', record[2])\n",
    "conn.close()"
   ]
  },
  {
   "cell_type": "code",
   "execution_count": 4,
   "id": "f39117a9",
   "metadata": {
    "ExecuteTime": {
     "end_time": "2022-09-08T13:13:58.988826Z",
     "start_time": "2022-09-08T13:13:58.973204Z"
    }
   },
   "outputs": [
    {
     "name": "stdout",
     "output_type": "stream",
     "text": [
      "(1, 'John', 'M')\n",
      "(2, 'Linda', 'F')\n",
      "(3, 'athy', 'F')\n"
     ]
    }
   ],
   "source": [
    "import sqlite3\n",
    "conn = sqlite3.connect('myInfo.db')\n",
    "results = conn.execute('SELECT * from students')\n",
    "allstudents = results.fetchall()  # 元素轉成元組的串列\n",
    "for student in allstudents:\n",
    "    print(student)\n",
    "conn.close()"
   ]
  },
  {
   "cell_type": "code",
   "execution_count": 5,
   "id": "80950701",
   "metadata": {
    "ExecuteTime": {
     "end_time": "2022-09-08T13:14:01.828171Z",
     "start_time": "2022-09-08T13:14:01.814502Z"
    }
   },
   "outputs": [
    {
     "name": "stdout",
     "output_type": "stream",
     "text": [
      "('John',)\n",
      "('Linda',)\n",
      "('athy',)\n"
     ]
    }
   ],
   "source": [
    "# 只列出name欄位名稱\n",
    "import sqlite3\n",
    "conn = sqlite3.connect('myInfo.db')\n",
    "results = conn.execute('SELECT name from students')\n",
    "allstudents = results.fetchall()\n",
    "for student in allstudents:\n",
    "    print(student)\n",
    "conn.close()"
   ]
  },
  {
   "cell_type": "code",
   "execution_count": 6,
   "id": "909614cb",
   "metadata": {
    "ExecuteTime": {
     "end_time": "2022-09-08T13:15:44.367221Z",
     "start_time": "2022-09-08T13:15:44.316458Z"
    }
   },
   "outputs": [
    {
     "name": "stdout",
     "output_type": "stream",
     "text": [
      "('Linda', 'F')\n",
      "('athy', 'F')\n"
     ]
    }
   ],
   "source": [
    "# 只列出Female\n",
    "import sqlite3\n",
    "conn = sqlite3.connect('myInfo.db')\n",
    "sql = '''SELECT name, gender  \n",
    "        from students          \n",
    "        where gender = \"F\"'''  # '''SELECT 欄位, from 表單  where 條件'''\n",
    "results = conn.execute(sql)\n",
    "allstudents = results.fetchall()\n",
    "for student in allstudents:\n",
    "    print(student)\n",
    "conn.close()"
   ]
  },
  {
   "cell_type": "markdown",
   "id": "6b7dc58e",
   "metadata": {},
   "source": [
    "# 修改"
   ]
  },
  {
   "cell_type": "code",
   "execution_count": 7,
   "id": "7ea2b459",
   "metadata": {
    "ExecuteTime": {
     "end_time": "2022-09-08T13:16:42.891492Z",
     "start_time": "2022-09-08T13:16:42.588842Z"
    }
   },
   "outputs": [
    {
     "name": "stdout",
     "output_type": "stream",
     "text": [
      "('Tomy',)\n",
      "('Linda',)\n",
      "('athy',)\n"
     ]
    }
   ],
   "source": [
    "import sqlite3\n",
    "conn = sqlite3.connect('myInfo.db')\n",
    "sql = '''UPDATE students\n",
    "        set name = \"Tomy\"\n",
    "        where id = 1'''  # '''UPDATE 表單, set 欄位 新內容  where 標明此筆紀錄'''\n",
    "results = conn.execute(sql)\n",
    "conn.commit()\n",
    "results = conn.execute('SELECT name from students')\n",
    "allstudents = results.fetchall()\n",
    "for student in allstudents:\n",
    "    print(student)\n",
    "conn.close()"
   ]
  },
  {
   "cell_type": "markdown",
   "id": "73171c78",
   "metadata": {},
   "source": [
    "# 刪除"
   ]
  },
  {
   "cell_type": "code",
   "execution_count": 9,
   "id": "9ca0ba94",
   "metadata": {
    "ExecuteTime": {
     "end_time": "2022-09-08T13:18:27.859905Z",
     "start_time": "2022-09-08T13:18:27.845256Z"
    }
   },
   "outputs": [
    {
     "name": "stdout",
     "output_type": "stream",
     "text": [
      "('Tomy',)\n",
      "('Linda',)\n",
      "('athy',)\n"
     ]
    }
   ],
   "source": [
    "import sqlite3\n",
    "conn = sqlite3.connect('myInfo.db')\n",
    "sql = '''DELETE \n",
    "        from students\n",
    "        where id = 2'''  # '''DELETE from 表單 where 標明此筆紀錄'''\n",
    "results = conn.execute(sql)\n",
    "conn.commit()\n",
    "results = conn.execute(\"SELECT name from students\")\n",
    "for student in allstudents:\n",
    "    print(student)\n",
    "conn.close()"
   ]
  },
  {
   "cell_type": "markdown",
   "id": "0d77f118",
   "metadata": {},
   "source": [
    "# 實例"
   ]
  },
  {
   "cell_type": "code",
   "execution_count": 1,
   "id": "fc5e055a",
   "metadata": {
    "ExecuteTime": {
     "end_time": "2022-09-09T03:06:17.694170Z",
     "start_time": "2022-09-09T03:06:12.172060Z"
    }
   },
   "outputs": [
    {
     "name": "stdout",
     "output_type": "stream",
     "text": [
      "區域      =   松山區 \n",
      "男性人口數 = 96357\n",
      "女性人口數 = 109276\n",
      "總計人口數 = 205633\n",
      "區域      =   信義區 \n",
      "男性人口數 = 106330\n",
      "女性人口數 = 116783\n",
      "總計人口數 = 223113\n",
      "區域      =   大安區 \n",
      "男性人口數 = 143905\n",
      "女性人口數 = 164781\n",
      "總計人口數 = 308686\n",
      "區域      =   中山區 \n",
      "男性人口數 = 106562\n",
      "女性人口數 = 122747\n",
      "總計人口數 = 229309\n",
      "區域      =   中正區 \n",
      "男性人口數 = 75840\n",
      "女性人口數 = 83063\n",
      "總計人口數 = 158903\n",
      "區域      =   大同區 \n",
      "男性人口數 = 62124\n",
      "女性人口數 = 65527\n",
      "總計人口數 = 127651\n",
      "區域      =   萬華區 \n",
      "男性人口數 = 92825\n",
      "女性人口數 = 96562\n",
      "總計人口數 = 189387\n",
      "區域      =   文山區 \n",
      "男性人口數 = 131114\n",
      "女性人口數 = 142572\n",
      "總計人口數 = 273686\n",
      "區域      =   南港區 \n",
      "男性人口數 = 59392\n",
      "女性人口數 = 62184\n",
      "總計人口數 = 121576\n",
      "區域      =   內湖區 \n",
      "男性人口數 = 137196\n",
      "女性人口數 = 150246\n",
      "總計人口數 = 287442\n",
      "區域      =   士林區 \n",
      "男性人口數 = 137965\n",
      "女性人口數 = 148374\n",
      "總計人口數 = 286339\n",
      "區域      =   北投區 \n",
      "男性人口數 = 122775\n",
      "女性人口數 = 132408\n",
      "總計人口數 = 255183\n"
     ]
    }
   ],
   "source": [
    "import sqlite3\n",
    "import csv\n",
    "import matplotlib.pyplot as plt\n",
    "\n",
    "conn = sqlite3.connect('populations.db')\n",
    "sql = '''Create table population(\n",
    "        area TEXT,\n",
    "        male int,\n",
    "        female int,\n",
    "        total int)'''\n",
    "conn.execute(sql)\n",
    "\n",
    "fn = 'Taipei_Population.csv'\n",
    "with open(fn) as csvFile:  # 儲存在SQLite\n",
    "    csvReader = csv.reader(csvFile)\n",
    "    listCsv = list(csvReader)  # 轉成串列\n",
    "    csvData = listCsv[4:]  # 切片刪除前4 rows\n",
    "    for row in csvData:\n",
    "        area = row[0]\n",
    "        male = int(row[7])\n",
    "        female = int(row[8])\n",
    "        total = int(row[6])\n",
    "        x = (area, male, female, total)\n",
    "        sql = '''insert into population values(?,?,?,?)'''\n",
    "        conn.execute(sql, x)\n",
    "        conn.commit()\n",
    "\n",
    "results = conn.execute('SELECT * from population')\n",
    "for record in results:\n",
    "    print('區域      =', record[0])\n",
    "    print('男性人口數 =', record[1])\n",
    "    print('女性人口數 =', record[2])\n",
    "    print('總計人口數 =', record[3])\n",
    "\n",
    "conn.close()"
   ]
  },
  {
   "cell_type": "code",
   "execution_count": 5,
   "id": "812d58fb",
   "metadata": {
    "ExecuteTime": {
     "end_time": "2022-09-09T07:38:03.012393Z",
     "start_time": "2022-09-09T07:38:02.130226Z"
    }
   },
   "outputs": [
    {
     "data": {
      "image/png": "[encoded data removed]",
      "text/plain": [
       "<Figure size 432x288 with 1 Axes>"
      ]
     },
     "metadata": {
      "needs_background": "light"
     },
     "output_type": "display_data"
    }
   ],
   "source": [
    "import sqlite3\n",
    "import matplotlib.pyplot as plt\n",
    "from pylab import mpl\n",
    "\n",
    "conn = sqlite3.connect('populations.db')\n",
    "results = conn.execute('SELECT * from population')\n",
    "\n",
    "area, male, female, total = [], [], [], []\n",
    "for record in results:  # 將人口資料放入串列\n",
    "    area.append(record[0])\n",
    "    male.append(record[1])\n",
    "    female.append(record[2])\n",
    "    total.append(record[3])\n",
    "conn.close()\n",
    "\n",
    "seq = area\n",
    "linemale, = plt.plot(seq, male,  '-*', label='男性人口數')\n",
    "linefemale, = plt.plot(seq, female, '-o', label='女性人口數')\n",
    "linetotal, = plt.plot(seq, total, '-^', label='總計人口數')\n",
    "\n",
    "plt.legend(handles=[linemale, linefemale, linetotal], loc='best')\n",
    "plt.title(u'台北市', fontsize=24)\n",
    "plt.xlabel('2019年', fontsize=14)\n",
    "plt.ylabel('人口數', fontsize=14)\n",
    "\n",
    "plt.tight_layout()\n",
    "plt.show()"
   ]
  }
 ],
 "metadata": {
  "kernelspec": {
   "display_name": "Python 3 (ipykernel)",
   "language": "python",
   "name": "python3"
  },
  "language_info": {
   "codemirror_mode": {
    "name": "ipython",
    "version": 3
   },
   "file_extension": ".py",
   "mimetype": "text/x-python",
   "name": "python",
   "nbconvert_exporter": "python",
   "pygments_lexer": "ipython3",
   "version": "3.9.7"
  },
  "toc": {
   "base_numbering": 1,
   "nav_menu": {},
   "number_sections": true,
   "sideBar": true,
   "skip_h1_title": false,
   "title_cell": "Table of Contents",
   "title_sidebar": "Contents",
   "toc_cell": false,
   "toc_position": {},
   "toc_section_display": true,
   "toc_window_display": false
  },
  "varInspector": {
   "cols": {
    "lenName": 16,
    "lenType": 16,
    "lenVar": 40
   },
   "kernels_config": {
    "python": {
     "delete_cmd_postfix": "",
     "delete_cmd_prefix": "del ",
     "library": "var_list.py",
     "varRefreshCmd": "print(var_dic_list())"
    },
    "r": {
     "delete_cmd_postfix": ") ",
     "delete_cmd_prefix": "rm(",
     "library": "var_list.r",
     "varRefreshCmd": "cat(var_dic_list()) "
    }
   },
   "types_to_exclude": [
    "module",
    "function",
    "builtin_function_or_method",
    "instance",
    "_Feature"
   ],
   "window_display": false
  }
 },
 "nbformat": 4,
 "nbformat_minor": 5
}
