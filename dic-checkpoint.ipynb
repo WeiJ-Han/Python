{
 "cells": [
  {
   "cell_type": "markdown",
   "id": "0ed05c09",
   "metadata": {},
   "source": [
    "# 基本操作"
   ]
  },
  {
   "cell_type": "code",
   "execution_count": 17,
   "id": "6f42a2dc",
   "metadata": {
    "ExecuteTime": {
     "end_time": "2022-05-11T13:21:42.598722Z",
     "start_time": "2022-05-11T13:21:42.582732Z"
    }
   },
   "outputs": [
    {
     "name": "stdout",
     "output_type": "stream",
     "text": [
      "{'香蕉': 20, '水蜜桃': 25}\n",
      "{}\n"
     ]
    }
   ],
   "source": [
    "fruits = {'西瓜': 15, '香蕉': 20, '水蜜桃': 25}\n",
    "noodles = {'牛肉麵': 100, '絲麵': 80, '陽春麵': 60}\n",
    "del fruits['西瓜']\n",
    "objkey = '絲麵'\n",
    "value = noodles.pop(objkey)\n",
    "value1 = noodles.popitem()\n",
    "{**fruits , **noodles} #合併\n",
    "noodles.clear()\n",
    "print(fruits)\n",
    "print(noodles)"
   ]
  },
  {
   "cell_type": "markdown",
   "id": "7077decf",
   "metadata": {},
   "source": [
    "# 遍歷字典"
   ]
  },
  {
   "cell_type": "code",
   "execution_count": 29,
   "id": "d90f5309",
   "metadata": {
    "ExecuteTime": {
     "end_time": "2022-05-11T14:06:35.907988Z",
     "start_time": "2022-05-11T14:06:35.875011Z"
    }
   },
   "outputs": [
    {
     "name": "stdout",
     "output_type": "stream",
     "text": [
      "西瓜\n",
      "香蕉\n",
      "水蜜桃\n",
      "[('西瓜', 15), ('香蕉', 20), ('水蜜桃', 25)]\n",
      "1667987552704\n"
     ]
    },
    {
     "data": {
      "text/plain": [
       "15"
      ]
     },
     "execution_count": 29,
     "metadata": {},
     "output_type": "execute_result"
    }
   ],
   "source": [
    "import copy\n",
    "fruits = {'西瓜': 15, '香蕉': 20, '水蜜桃': 25}\n",
    "for i, j in fruits.items():\n",
    "    print(i)\n",
    "cfruits = copy.deepcopy(fruits)\n",
    "fruitslst = sorted(fruits.items(), key=lambda item: item[1])\n",
    "print((fruitslst))\n",
    "print(id(cfruits))\n",
    "min(fruits.values())"
   ]
  },
  {
   "cell_type": "code",
   "execution_count": 21,
   "id": "73c4b51d",
   "metadata": {
    "ExecuteTime": {
     "end_time": "2022-05-11T13:33:59.177458Z",
     "start_time": "2022-05-11T13:33:59.161468Z"
    }
   },
   "outputs": [
    {
     "name": "stdout",
     "output_type": "stream",
     "text": [
      "{'a': 0, 'b': 1, 'c': 2}\n"
     ]
    }
   ],
   "source": [
    "my_dict = dict(zip(['a','b','c'], range(5)))\n",
    "print(my_dict)"
   ]
  },
  {
   "cell_type": "markdown",
   "id": "ce2096b8",
   "metadata": {},
   "source": [
    "# while迴圈"
   ]
  },
  {
   "cell_type": "code",
   "execution_count": 4,
   "id": "aaae0cc6",
   "metadata": {
    "ExecuteTime": {
     "end_time": "2022-05-12T00:18:08.670499Z",
     "start_time": "2022-05-12T00:17:50.787013Z"
    }
   },
   "outputs": [
    {
     "name": "stdout",
     "output_type": "stream",
     "text": [
      "namehan\n",
      "locla\n",
      "是否參加調查y\n",
      "namea\n",
      "loca\n",
      "是否參加調查n\n",
      "han la\n",
      "a a\n"
     ]
    }
   ],
   "source": [
    "survey = {}\n",
    "market = True\n",
    "\n",
    "while market:\n",
    "    name = input('name')\n",
    "    loc = input('loc')\n",
    "    survey[name] = loc\n",
    "    repeat = input('是否參加調查')\n",
    "\n",
    "    if repeat != 'y':\n",
    "        market = False\n",
    "\n",
    "for user, location in survey.items():\n",
    "    print(user, location)"
   ]
  },
  {
   "cell_type": "markdown",
   "id": "3bddd3e0",
   "metadata": {},
   "source": [
    "# 常用函數"
   ]
  },
  {
   "cell_type": "code",
   "execution_count": 26,
   "id": "636f4a5b",
   "metadata": {
    "ExecuteTime": {
     "end_time": "2022-05-12T02:32:44.328878Z",
     "start_time": "2022-05-12T02:32:44.313884Z"
    }
   },
   "outputs": [
    {
     "name": "stdout",
     "output_type": "stream",
     "text": [
      "{'name': 'han', 'city': 'han'}\n"
     ]
    }
   ],
   "source": [
    "seq = ['name', 'city']\n",
    "list_dict = dict.fromkeys(seq , 'han')\n",
    "print(list_dict)"
   ]
  },
  {
   "cell_type": "markdown",
   "id": "8defe3c5",
   "metadata": {},
   "source": [
    "# 專題"
   ]
  },
  {
   "cell_type": "code",
   "execution_count": 17,
   "id": "a2ecd269",
   "metadata": {
    "ExecuteTime": {
     "end_time": "2022-05-12T02:08:22.876889Z",
     "start_time": "2022-05-12T02:08:22.856902Z"
    }
   },
   "outputs": [
    {
     "name": "stdout",
     "output_type": "stream",
     "text": [
      "原始歌曲\n",
      "Are you sleeping, are you sleeping, Brother John, Brother John?\n",
      "Morning bells are ringing, morning bells are ringing.\n",
      "Ding ding dong, Ding ding dong.\n",
      "Are you sleeping are you sleeping Brother John Brother John\n",
      "Morning bells are ringing morning bells are ringing\n",
      "Ding ding dong Ding ding dong\n",
      "['Are', 'you', 'sleeping', 'are', 'you', 'sleeping', 'Brother', 'John', 'Brother', 'John', 'Morning', 'bells', 'are', 'ringing', 'morning', 'bells', 'are', 'ringing', 'Ding', 'ding', 'dong', 'Ding', 'ding', 'dong']\n",
      "{'Are': 1, 'you': 2, 'sleeping': 2, 'are': 3, 'Brother': 2, 'John': 2, 'Morning': 1, 'bells': 2, 'ringing': 2, 'morning': 1, 'Ding': 2, 'ding': 2, 'dong': 2}\n"
     ]
    }
   ],
   "source": [
    "song = \"\"\"Are you sleeping, are you sleeping, Brother John, Brother John?\n",
    "Morning bells are ringing, morning bells are ringing.\n",
    "Ding ding dong, Ding ding dong.\"\"\"\n",
    "mydict = {}                         # 空字典未來儲存單字計數結果\n",
    "print(\"原始歌曲\")\n",
    "print(song)\n",
    "\n",
    "for i in song:\n",
    "    if i in '.,?':\n",
    "        song = song.replace(i, '')\n",
    "print(song)\n",
    "\n",
    "song = song.split()\n",
    "print(song)\n",
    "\n",
    "\n",
    "mydict = {j: song.count(j) for j in song}\n",
    "print(mydict)"
   ]
  },
  {
   "cell_type": "code",
   "execution_count": 27,
   "id": "68ae1fd4",
   "metadata": {
    "ExecuteTime": {
     "end_time": "2022-05-12T02:35:25.670380Z",
     "start_time": "2022-05-12T02:35:21.091847Z"
    }
   },
   "outputs": [
    {
     "name": "stdout",
     "output_type": "stream",
     "text": [
      "列印編碼字典\n",
      " {'a': 'd', 'b': 'e', 'c': 'f', 'd': 'g', 'e': 'h', 'f': 'i', 'g': 'j', 'h': 'k', 'i': 'l', 'j': 'm', 'k': 'n', 'l': 'o', 'm': 'p', 'n': 'q', 'o': 'r', 'p': 's', 'q': 't', 'r': 'u', 's': 'v', 't': 'w', 'u': 'x', 'v': 'y', 'w': 'z', 'x': 'a', 'y': 'b', 'z': 'c'}\n",
      "請輸入原始字串 : python\n",
      "原始字串  python\n",
      "加密字串  ['s', 'b', 'w', 'k', 'r', 'q']\n"
     ]
    }
   ],
   "source": [
    "# ch9_35.py\n",
    "abc = 'abcdefghijklmnopqrstuvwxyz'\n",
    "encry_dict = {}\n",
    "front3 = abc[:3]\n",
    "end23 = abc[3:]\n",
    "subText = end23 + front3\n",
    "encry_dict = dict(zip(abc, subText))    # 建立字典\n",
    "print(\"列印編碼字典\\n\", encry_dict)     # 列印字典\n",
    "\n",
    "msgTest = input(\"請輸入原始字串 : \")\n",
    "\n",
    "cipher = []\n",
    "for i in msgTest:                       # 執行每個字元加密\n",
    "    v = encry_dict[i]                   # 加密\n",
    "    cipher.append(v)                    # 加密結果\n",
    "ciphertext = ''.join(cipher)            # 將串列轉成字串\n",
    "\n",
    "print(\"原始字串 \", msgTest)\n",
    "print(\"加密字串 \", ciphertext)"
   ]
  },
  {
   "cell_type": "code",
   "execution_count": null,
   "id": "5c2bcdbd",
   "metadata": {},
   "outputs": [],
   "source": []
  }
 ],
 "metadata": {
  "kernelspec": {
   "display_name": "Python 3 (ipykernel)",
   "language": "python",
   "name": "python3"
  },
  "language_info": {
   "codemirror_mode": {
    "name": "ipython",
    "version": 3
   },
   "file_extension": ".py",
   "mimetype": "text/x-python",
   "name": "python",
   "nbconvert_exporter": "python",
   "pygments_lexer": "ipython3",
   "version": "3.9.7"
  },
  "toc": {
   "base_numbering": 1,
   "nav_menu": {},
   "number_sections": true,
   "sideBar": true,
   "skip_h1_title": false,
   "title_cell": "Table of Contents",
   "title_sidebar": "Contents",
   "toc_cell": false,
   "toc_position": {},
   "toc_section_display": true,
   "toc_window_display": false
  },
  "varInspector": {
   "cols": {
    "lenName": 16,
    "lenType": 16,
    "lenVar": 40
   },
   "kernels_config": {
    "python": {
     "delete_cmd_postfix": "",
     "delete_cmd_prefix": "del ",
     "library": "var_list.py",
     "varRefreshCmd": "print(var_dic_list())"
    },
    "r": {
     "delete_cmd_postfix": ") ",
     "delete_cmd_prefix": "rm(",
     "library": "var_list.r",
     "varRefreshCmd": "cat(var_dic_list()) "
    }
   },
   "types_to_exclude": [
    "module",
    "function",
    "builtin_function_or_method",
    "instance",
    "_Feature"
   ],
   "window_display": false
  }
 },
 "nbformat": 4,
 "nbformat_minor": 5
}
